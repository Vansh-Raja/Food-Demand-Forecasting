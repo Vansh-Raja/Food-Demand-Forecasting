{
 "cells": [
  {
   "cell_type": "code",
   "execution_count": 1,
   "metadata": {
    "colab": {
     "base_uri": "https://localhost:8080/"
    },
    "id": "4GCVB2P0GO4C",
    "outputId": "60108e5e-ddd9-4a4e-ff07-5e91e729be0e"
   },
   "outputs": [
    {
     "name": "stdout",
     "output_type": "stream",
     "text": [
      "Mounted at /content/drive\n"
     ]
    }
   ],
   "source": [
    "from google.colab import drive\n",
    "drive.mount('/content/drive')"
   ]
  },
  {
   "cell_type": "code",
   "execution_count": 2,
   "metadata": {
    "colab": {
     "base_uri": "https://localhost:8080/"
    },
    "id": "CkbIgqqSGPWs",
    "outputId": "5c770ec1-6065-44ba-98f4-4269d20dbee8"
   },
   "outputs": [
    {
     "name": "stdout",
     "output_type": "stream",
     "text": [
      "Collecting keras==2.12.0\n",
      "  Downloading keras-2.12.0-py2.py3-none-any.whl (1.7 MB)\n",
      "\u001b[2K     \u001b[90m━━━━━━━━━━━━━━━━━━━━━━━━━━━━━━━━━━━━━━━━\u001b[0m \u001b[32m1.7/1.7 MB\u001b[0m \u001b[31m10.4 MB/s\u001b[0m eta \u001b[36m0:00:00\u001b[0m\n",
      "\u001b[?25hInstalling collected packages: keras\n",
      "  Attempting uninstall: keras\n",
      "    Found existing installation: keras 2.15.0\n",
      "    Uninstalling keras-2.15.0:\n",
      "      Successfully uninstalled keras-2.15.0\n",
      "\u001b[31mERROR: pip's dependency resolver does not currently take into account all the packages that are installed. This behaviour is the source of the following dependency conflicts.\n",
      "tensorflow 2.15.0 requires keras<2.16,>=2.15.0, but you have keras 2.12.0 which is incompatible.\u001b[0m\u001b[31m\n",
      "\u001b[0mSuccessfully installed keras-2.12.0\n"
     ]
    }
   ],
   "source": [
    "!pip install keras==2.12.0"
   ]
  },
  {
   "cell_type": "code",
   "execution_count": null,
   "metadata": {
    "colab": {
     "base_uri": "https://localhost:8080/"
    },
    "id": "piqcKtkyGmFQ",
    "outputId": "72dda449-06c7-47d8-ad21-bbde8926f306"
   },
   "outputs": [
    {
     "name": "stdout",
     "output_type": "stream",
     "text": [
      "Collecting scikeras\n",
      "  Downloading scikeras-0.12.0-py3-none-any.whl (27 kB)\n",
      "Requirement already satisfied: packaging>=0.21 in /usr/local/lib/python3.10/dist-packages (from scikeras) (23.2)\n",
      "Requirement already satisfied: scikit-learn>=1.0.0 in /usr/local/lib/python3.10/dist-packages (from scikeras) (1.2.2)\n",
      "Requirement already satisfied: numpy>=1.17.3 in /usr/local/lib/python3.10/dist-packages (from scikit-learn>=1.0.0->scikeras) (1.23.5)\n",
      "Requirement already satisfied: scipy>=1.3.2 in /usr/local/lib/python3.10/dist-packages (from scikit-learn>=1.0.0->scikeras) (1.11.4)\n",
      "Requirement already satisfied: joblib>=1.1.1 in /usr/local/lib/python3.10/dist-packages (from scikit-learn>=1.0.0->scikeras) (1.3.2)\n",
      "Requirement already satisfied: threadpoolctl>=2.0.0 in /usr/local/lib/python3.10/dist-packages (from scikit-learn>=1.0.0->scikeras) (3.2.0)\n"
     ]
    }
   ],
   "source": [
    "!pip install scikeras"
   ]
  },
  {
   "cell_type": "code",
   "execution_count": 2,
   "metadata": {
    "id": "8lOOxc6SGfbV"
   },
   "outputs": [
    {
     "name": "stdout",
     "output_type": "stream",
     "text": [
      "WARNING:tensorflow:From D:\\conda\\Lib\\site-packages\\keras\\src\\losses.py:2976: The name tf.losses.sparse_softmax_cross_entropy is deprecated. Please use tf.compat.v1.losses.sparse_softmax_cross_entropy instead.\n",
      "\n"
     ]
    }
   ],
   "source": [
    "import numpy as np\n",
    "import pandas as pd\n",
    "from matplotlib import pyplot as plt\n",
    "from tensorflow.keras.models import Sequential\n",
    "from tensorflow.keras.layers import LSTM\n",
    "from tensorflow.keras.layers import Dense, Dropout\n",
    "from sklearn.preprocessing import MinMaxScaler\n",
    "from scikeras.wrappers import KerasRegressor\n",
    "\n",
    "from sklearn.model_selection import GridSearchCV"
   ]
  },
  {
   "cell_type": "code",
   "execution_count": null,
   "metadata": {},
   "outputs": [],
   "source": [
    "center_id= 55\n",
    "meal_id=1885"
   ]
  },
  {
   "cell_type": "code",
   "execution_count": 3,
   "metadata": {
    "id": "Dkcg3KHmGi-T"
   },
   "outputs": [],
   "source": [
    "train=pd.read_csv('train.csv')\n",
    "test=pd.read_csv('test.csv')\n",
    "meal=pd.read_csv('meal_info.csv')\n",
    "train=train.merge(meal, on='meal_id')\n"
   ]
  },
  {
   "cell_type": "code",
   "execution_count": 4,
   "metadata": {
    "id": "LAm5ZOCqG_u5"
   },
   "outputs": [],
   "source": [
    "center_id= 55\n",
    "meal_id=1885"
   ]
  },
  {
   "cell_type": "code",
   "execution_count": 5,
   "metadata": {
    "colab": {
     "base_uri": "https://localhost:8080/"
    },
    "id": "yrtixK3LHCTv",
    "outputId": "29e32a6f-c8c9-4a58-a329-74fb625054a8"
   },
   "outputs": [
    {
     "name": "stderr",
     "output_type": "stream",
     "text": [
      "C:\\Users\\Rishabh\\AppData\\Local\\Temp\\ipykernel_16496\\4218349882.py:2: UserWarning: Boolean Series key will be reindexed to match DataFrame index.\n",
      "  train_df=train_df[train[\"meal_id\"]==meal_id]\n"
     ]
    }
   ],
   "source": [
    "train_df=train[train[\"center_id\"]==center_id]\n",
    "train_df=train_df[train[\"meal_id\"]==meal_id]"
   ]
  },
  {
   "cell_type": "code",
   "execution_count": 6,
   "metadata": {
    "colab": {
     "base_uri": "https://localhost:8080/"
    },
    "id": "cOVG4W9FHDZl",
    "outputId": "f9062e2d-b22b-4d8f-d9d0-e93259f7da90"
   },
   "outputs": [
    {
     "data": {
      "text/plain": [
       "(145, 11)"
      ]
     },
     "execution_count": 6,
     "metadata": {},
     "output_type": "execute_result"
    }
   ],
   "source": [
    "train_df.shape"
   ]
  },
  {
   "cell_type": "code",
   "execution_count": 7,
   "metadata": {
    "id": "K8ZybcwTHFRA"
   },
   "outputs": [],
   "source": [
    "period = len(train_df)\n",
    "train_df['Date'] = pd.date_range('2015-01-08', periods=period, freq='W')\n"
   ]
  },
  {
   "cell_type": "code",
   "execution_count": 49,
   "metadata": {
    "colab": {
     "base_uri": "https://localhost:8080/",
     "height": 344
    },
    "id": "1BIRG7LyHJJo",
    "outputId": "5812fc2a-7e76-490f-cd3c-4d82068ad60d"
   },
   "outputs": [
    {
     "data": {
      "text/html": [
       "\n",
       "  <div id=\"df-07bbcd1f-9c14-4815-ae85-81dc94b1fa4b\" class=\"colab-df-container\">\n",
       "    <div>\n",
       "<style scoped>\n",
       "    .dataframe tbody tr th:only-of-type {\n",
       "        vertical-align: middle;\n",
       "    }\n",
       "\n",
       "    .dataframe tbody tr th {\n",
       "        vertical-align: top;\n",
       "    }\n",
       "\n",
       "    .dataframe thead th {\n",
       "        text-align: right;\n",
       "    }\n",
       "</style>\n",
       "<table border=\"1\" class=\"dataframe\">\n",
       "  <thead>\n",
       "    <tr style=\"text-align: right;\">\n",
       "      <th></th>\n",
       "      <th>id</th>\n",
       "      <th>week</th>\n",
       "      <th>center_id</th>\n",
       "      <th>meal_id</th>\n",
       "      <th>checkout_price</th>\n",
       "      <th>base_price</th>\n",
       "      <th>emailer_for_promotion</th>\n",
       "      <th>homepage_featured</th>\n",
       "      <th>num_orders</th>\n",
       "      <th>category</th>\n",
       "      <th>cuisine</th>\n",
       "    </tr>\n",
       "    <tr>\n",
       "      <th>Date</th>\n",
       "      <th></th>\n",
       "      <th></th>\n",
       "      <th></th>\n",
       "      <th></th>\n",
       "      <th></th>\n",
       "      <th></th>\n",
       "      <th></th>\n",
       "      <th></th>\n",
       "      <th></th>\n",
       "      <th></th>\n",
       "      <th></th>\n",
       "    </tr>\n",
       "  </thead>\n",
       "  <tbody>\n",
       "    <tr>\n",
       "      <th>2015-01-11</th>\n",
       "      <td>1379560</td>\n",
       "      <td>1</td>\n",
       "      <td>55</td>\n",
       "      <td>1885</td>\n",
       "      <td>136.83</td>\n",
       "      <td>152.29</td>\n",
       "      <td>0</td>\n",
       "      <td>0</td>\n",
       "      <td>177</td>\n",
       "      <td>Beverages</td>\n",
       "      <td>Thai</td>\n",
       "    </tr>\n",
       "    <tr>\n",
       "      <th>2015-01-18</th>\n",
       "      <td>1018704</td>\n",
       "      <td>2</td>\n",
       "      <td>55</td>\n",
       "      <td>1885</td>\n",
       "      <td>135.83</td>\n",
       "      <td>152.29</td>\n",
       "      <td>0</td>\n",
       "      <td>0</td>\n",
       "      <td>323</td>\n",
       "      <td>Beverages</td>\n",
       "      <td>Thai</td>\n",
       "    </tr>\n",
       "    <tr>\n",
       "      <th>2015-01-25</th>\n",
       "      <td>1196273</td>\n",
       "      <td>3</td>\n",
       "      <td>55</td>\n",
       "      <td>1885</td>\n",
       "      <td>132.92</td>\n",
       "      <td>133.92</td>\n",
       "      <td>0</td>\n",
       "      <td>0</td>\n",
       "      <td>96</td>\n",
       "      <td>Beverages</td>\n",
       "      <td>Thai</td>\n",
       "    </tr>\n",
       "    <tr>\n",
       "      <th>2015-02-01</th>\n",
       "      <td>1116527</td>\n",
       "      <td>4</td>\n",
       "      <td>55</td>\n",
       "      <td>1885</td>\n",
       "      <td>135.86</td>\n",
       "      <td>134.86</td>\n",
       "      <td>0</td>\n",
       "      <td>0</td>\n",
       "      <td>163</td>\n",
       "      <td>Beverages</td>\n",
       "      <td>Thai</td>\n",
       "    </tr>\n",
       "    <tr>\n",
       "      <th>2015-02-08</th>\n",
       "      <td>1343872</td>\n",
       "      <td>5</td>\n",
       "      <td>55</td>\n",
       "      <td>1885</td>\n",
       "      <td>146.50</td>\n",
       "      <td>147.50</td>\n",
       "      <td>0</td>\n",
       "      <td>0</td>\n",
       "      <td>215</td>\n",
       "      <td>Beverages</td>\n",
       "      <td>Thai</td>\n",
       "    </tr>\n",
       "  </tbody>\n",
       "</table>\n",
       "</div>\n",
       "    <div class=\"colab-df-buttons\">\n",
       "\n",
       "  <div class=\"colab-df-container\">\n",
       "    <button class=\"colab-df-convert\" onclick=\"convertToInteractive('df-07bbcd1f-9c14-4815-ae85-81dc94b1fa4b')\"\n",
       "            title=\"Convert this dataframe to an interactive table.\"\n",
       "            style=\"display:none;\">\n",
       "\n",
       "  <svg xmlns=\"http://www.w3.org/2000/svg\" height=\"24px\" viewBox=\"0 -960 960 960\">\n",
       "    <path d=\"M120-120v-720h720v720H120Zm60-500h600v-160H180v160Zm220 220h160v-160H400v160Zm0 220h160v-160H400v160ZM180-400h160v-160H180v160Zm440 0h160v-160H620v160ZM180-180h160v-160H180v160Zm440 0h160v-160H620v160Z\"/>\n",
       "  </svg>\n",
       "    </button>\n",
       "\n",
       "  <style>\n",
       "    .colab-df-container {\n",
       "      display:flex;\n",
       "      gap: 12px;\n",
       "    }\n",
       "\n",
       "    .colab-df-convert {\n",
       "      background-color: #E8F0FE;\n",
       "      border: none;\n",
       "      border-radius: 50%;\n",
       "      cursor: pointer;\n",
       "      display: none;\n",
       "      fill: #1967D2;\n",
       "      height: 32px;\n",
       "      padding: 0 0 0 0;\n",
       "      width: 32px;\n",
       "    }\n",
       "\n",
       "    .colab-df-convert:hover {\n",
       "      background-color: #E2EBFA;\n",
       "      box-shadow: 0px 1px 2px rgba(60, 64, 67, 0.3), 0px 1px 3px 1px rgba(60, 64, 67, 0.15);\n",
       "      fill: #174EA6;\n",
       "    }\n",
       "\n",
       "    .colab-df-buttons div {\n",
       "      margin-bottom: 4px;\n",
       "    }\n",
       "\n",
       "    [theme=dark] .colab-df-convert {\n",
       "      background-color: #3B4455;\n",
       "      fill: #D2E3FC;\n",
       "    }\n",
       "\n",
       "    [theme=dark] .colab-df-convert:hover {\n",
       "      background-color: #434B5C;\n",
       "      box-shadow: 0px 1px 3px 1px rgba(0, 0, 0, 0.15);\n",
       "      filter: drop-shadow(0px 1px 2px rgba(0, 0, 0, 0.3));\n",
       "      fill: #FFFFFF;\n",
       "    }\n",
       "  </style>\n",
       "\n",
       "    <script>\n",
       "      const buttonEl =\n",
       "        document.querySelector('#df-07bbcd1f-9c14-4815-ae85-81dc94b1fa4b button.colab-df-convert');\n",
       "      buttonEl.style.display =\n",
       "        google.colab.kernel.accessAllowed ? 'block' : 'none';\n",
       "\n",
       "      async function convertToInteractive(key) {\n",
       "        const element = document.querySelector('#df-07bbcd1f-9c14-4815-ae85-81dc94b1fa4b');\n",
       "        const dataTable =\n",
       "          await google.colab.kernel.invokeFunction('convertToInteractive',\n",
       "                                                    [key], {});\n",
       "        if (!dataTable) return;\n",
       "\n",
       "        const docLinkHtml = 'Like what you see? Visit the ' +\n",
       "          '<a target=\"_blank\" href=https://colab.research.google.com/notebooks/data_table.ipynb>data table notebook</a>'\n",
       "          + ' to learn more about interactive tables.';\n",
       "        element.innerHTML = '';\n",
       "        dataTable['output_type'] = 'display_data';\n",
       "        await google.colab.output.renderOutput(dataTable, element);\n",
       "        const docLink = document.createElement('div');\n",
       "        docLink.innerHTML = docLinkHtml;\n",
       "        element.appendChild(docLink);\n",
       "      }\n",
       "    </script>\n",
       "  </div>\n",
       "\n",
       "\n",
       "<div id=\"df-d2241525-85b8-4864-b9ab-74f59cc2b408\">\n",
       "  <button class=\"colab-df-quickchart\" onclick=\"quickchart('df-d2241525-85b8-4864-b9ab-74f59cc2b408')\"\n",
       "            title=\"Suggest charts\"\n",
       "            style=\"display:none;\">\n",
       "\n",
       "<svg xmlns=\"http://www.w3.org/2000/svg\" height=\"24px\"viewBox=\"0 0 24 24\"\n",
       "     width=\"24px\">\n",
       "    <g>\n",
       "        <path d=\"M19 3H5c-1.1 0-2 .9-2 2v14c0 1.1.9 2 2 2h14c1.1 0 2-.9 2-2V5c0-1.1-.9-2-2-2zM9 17H7v-7h2v7zm4 0h-2V7h2v10zm4 0h-2v-4h2v4z\"/>\n",
       "    </g>\n",
       "</svg>\n",
       "  </button>\n",
       "\n",
       "<style>\n",
       "  .colab-df-quickchart {\n",
       "      --bg-color: #E8F0FE;\n",
       "      --fill-color: #1967D2;\n",
       "      --hover-bg-color: #E2EBFA;\n",
       "      --hover-fill-color: #174EA6;\n",
       "      --disabled-fill-color: #AAA;\n",
       "      --disabled-bg-color: #DDD;\n",
       "  }\n",
       "\n",
       "  [theme=dark] .colab-df-quickchart {\n",
       "      --bg-color: #3B4455;\n",
       "      --fill-color: #D2E3FC;\n",
       "      --hover-bg-color: #434B5C;\n",
       "      --hover-fill-color: #FFFFFF;\n",
       "      --disabled-bg-color: #3B4455;\n",
       "      --disabled-fill-color: #666;\n",
       "  }\n",
       "\n",
       "  .colab-df-quickchart {\n",
       "    background-color: var(--bg-color);\n",
       "    border: none;\n",
       "    border-radius: 50%;\n",
       "    cursor: pointer;\n",
       "    display: none;\n",
       "    fill: var(--fill-color);\n",
       "    height: 32px;\n",
       "    padding: 0;\n",
       "    width: 32px;\n",
       "  }\n",
       "\n",
       "  .colab-df-quickchart:hover {\n",
       "    background-color: var(--hover-bg-color);\n",
       "    box-shadow: 0 1px 2px rgba(60, 64, 67, 0.3), 0 1px 3px 1px rgba(60, 64, 67, 0.15);\n",
       "    fill: var(--button-hover-fill-color);\n",
       "  }\n",
       "\n",
       "  .colab-df-quickchart-complete:disabled,\n",
       "  .colab-df-quickchart-complete:disabled:hover {\n",
       "    background-color: var(--disabled-bg-color);\n",
       "    fill: var(--disabled-fill-color);\n",
       "    box-shadow: none;\n",
       "  }\n",
       "\n",
       "  .colab-df-spinner {\n",
       "    border: 2px solid var(--fill-color);\n",
       "    border-color: transparent;\n",
       "    border-bottom-color: var(--fill-color);\n",
       "    animation:\n",
       "      spin 1s steps(1) infinite;\n",
       "  }\n",
       "\n",
       "  @keyframes spin {\n",
       "    0% {\n",
       "      border-color: transparent;\n",
       "      border-bottom-color: var(--fill-color);\n",
       "      border-left-color: var(--fill-color);\n",
       "    }\n",
       "    20% {\n",
       "      border-color: transparent;\n",
       "      border-left-color: var(--fill-color);\n",
       "      border-top-color: var(--fill-color);\n",
       "    }\n",
       "    30% {\n",
       "      border-color: transparent;\n",
       "      border-left-color: var(--fill-color);\n",
       "      border-top-color: var(--fill-color);\n",
       "      border-right-color: var(--fill-color);\n",
       "    }\n",
       "    40% {\n",
       "      border-color: transparent;\n",
       "      border-right-color: var(--fill-color);\n",
       "      border-top-color: var(--fill-color);\n",
       "    }\n",
       "    60% {\n",
       "      border-color: transparent;\n",
       "      border-right-color: var(--fill-color);\n",
       "    }\n",
       "    80% {\n",
       "      border-color: transparent;\n",
       "      border-right-color: var(--fill-color);\n",
       "      border-bottom-color: var(--fill-color);\n",
       "    }\n",
       "    90% {\n",
       "      border-color: transparent;\n",
       "      border-bottom-color: var(--fill-color);\n",
       "    }\n",
       "  }\n",
       "</style>\n",
       "\n",
       "  <script>\n",
       "    async function quickchart(key) {\n",
       "      const quickchartButtonEl =\n",
       "        document.querySelector('#' + key + ' button');\n",
       "      quickchartButtonEl.disabled = true;  // To prevent multiple clicks.\n",
       "      quickchartButtonEl.classList.add('colab-df-spinner');\n",
       "      try {\n",
       "        const charts = await google.colab.kernel.invokeFunction(\n",
       "            'suggestCharts', [key], {});\n",
       "      } catch (error) {\n",
       "        console.error('Error during call to suggestCharts:', error);\n",
       "      }\n",
       "      quickchartButtonEl.classList.remove('colab-df-spinner');\n",
       "      quickchartButtonEl.classList.add('colab-df-quickchart-complete');\n",
       "    }\n",
       "    (() => {\n",
       "      let quickchartButtonEl =\n",
       "        document.querySelector('#df-d2241525-85b8-4864-b9ab-74f59cc2b408 button');\n",
       "      quickchartButtonEl.style.display =\n",
       "        google.colab.kernel.accessAllowed ? 'block' : 'none';\n",
       "    })();\n",
       "  </script>\n",
       "</div>\n",
       "\n",
       "    </div>\n",
       "  </div>\n"
      ],
      "text/plain": [
       "                 id  week  center_id  meal_id  checkout_price  base_price  \\\n",
       "Date                                                                        \n",
       "2015-01-11  1379560     1         55     1885          136.83      152.29   \n",
       "2015-01-18  1018704     2         55     1885          135.83      152.29   \n",
       "2015-01-25  1196273     3         55     1885          132.92      133.92   \n",
       "2015-02-01  1116527     4         55     1885          135.86      134.86   \n",
       "2015-02-08  1343872     5         55     1885          146.50      147.50   \n",
       "\n",
       "            emailer_for_promotion  homepage_featured  num_orders   category  \\\n",
       "Date                                                                          \n",
       "2015-01-11                      0                  0         177  Beverages   \n",
       "2015-01-18                      0                  0         323  Beverages   \n",
       "2015-01-25                      0                  0          96  Beverages   \n",
       "2015-02-01                      0                  0         163  Beverages   \n",
       "2015-02-08                      0                  0         215  Beverages   \n",
       "\n",
       "           cuisine  \n",
       "Date                \n",
       "2015-01-11    Thai  \n",
       "2015-01-18    Thai  \n",
       "2015-01-25    Thai  \n",
       "2015-02-01    Thai  \n",
       "2015-02-08    Thai  "
      ]
     },
     "execution_count": 49,
     "metadata": {},
     "output_type": "execute_result"
    }
   ],
   "source": [
    "train_df = train_df.set_index(['Date'])\n",
    "train_df.head()"
   ]
  },
  {
   "cell_type": "code",
   "execution_count": 50,
   "metadata": {
    "id": "4PMQWtEyHKjw"
   },
   "outputs": [],
   "source": [
    "lstm_data = train_df.drop(columns=['id','center_id','meal_id','category','cuisine','week'])\n"
   ]
  },
  {
   "cell_type": "code",
   "execution_count": 51,
   "metadata": {
    "colab": {
     "base_uri": "https://localhost:8080/"
    },
    "id": "LTAys8N5HOOs",
    "outputId": "fe460c85-161d-47b4-f96f-e92cbab3dcf7"
   },
   "outputs": [
    {
     "name": "stdout",
     "output_type": "stream",
     "text": [
      "(116, 5)\n",
      "(29, 5)\n"
     ]
    }
   ],
   "source": [
    "#perforing train test split in the dataset\n",
    "test_split=round(len(lstm_data)*0.20)\n",
    "df_for_training=lstm_data[:-test_split]\n",
    "df_for_testing=lstm_data[-test_split:]\n",
    "print(df_for_training.shape)\n",
    "print(df_for_testing.shape)"
   ]
  },
  {
   "cell_type": "code",
   "execution_count": 52,
   "metadata": {
    "colab": {
     "base_uri": "https://localhost:8080/"
    },
    "id": "qGn1BWq1HQm_",
    "outputId": "01c11851-da0c-49ef-cb16-995938cd8262"
   },
   "outputs": [
    {
     "data": {
      "text/plain": [
       "array([[0.40074135, 0.72444444, 0.        , 0.        , 0.16781293],\n",
       "       [0.38014827, 0.72444444, 0.        , 0.        , 0.36863824],\n",
       "       [0.32022241, 0.35333333, 0.        , 0.        , 0.05639615],\n",
       "       [0.38076606, 0.37232323, 0.        , 0.        , 0.14855571],\n",
       "       [0.59987644, 0.62767677, 0.        , 0.        , 0.22008253],\n",
       "       [0.60049423, 0.60808081, 0.        , 0.        , 0.31636864],\n",
       "       [0.57990115, 0.60808081, 0.        , 0.        , 0.12792297],\n",
       "       [0.60049423, 0.58787879, 0.        , 0.        , 0.11004127],\n",
       "       [0.35955519, 0.37171717, 0.        , 0.        , 0.1650619 ],\n",
       "       [0.55992586, 0.54808081, 0.        , 0.        , 0.1650619 ],\n",
       "       [0.60049423, 0.56767677, 0.        , 0.        , 0.25997249],\n",
       "       [0.57990115, 0.60808081, 0.        , 0.        , 0.18569464],\n",
       "       [0.57928336, 0.60747475, 0.        , 0.        , 0.01788171],\n",
       "       [0.51997529, 0.50888889, 0.        , 0.        , 0.11004127],\n",
       "       [0.        , 0.54929293, 0.        , 0.        , 0.42778542],\n",
       "       [0.        , 0.50888889, 0.        , 0.        , 0.01650619],\n",
       "       [0.10111203, 0.54929293, 0.        , 0.        , 0.2957359 ],\n",
       "       [0.05992586, 0.52909091, 0.        , 0.        , 0.40577717],\n",
       "       [0.05992586, 0.54929293, 0.        , 0.        , 0.25997249],\n",
       "       [0.08051895, 0.52909091, 0.        , 0.        , 0.1829436 ],\n",
       "       [0.06116145, 0.03858586, 0.        , 0.        , 0.11141678],\n",
       "       [0.10049423, 0.13777778, 0.        , 0.        , 0.33149931],\n",
       "       [0.92009885, 0.90141414, 0.        , 0.        , 0.1829436 ],\n",
       "       [1.        , 1.        , 0.        , 0.        , 0.14580468],\n",
       "       [0.95881384, 1.        , 0.        , 0.        , 0.        ],\n",
       "       [0.98002471, 0.94      , 0.        , 0.        , 0.16643741],\n",
       "       [0.07990115, 0.96020202, 0.        , 0.        , 0.20220083],\n",
       "       [0.10111203, 0.94      , 0.        , 0.        , 0.33149931],\n",
       "       [0.03995058, 0.96020202, 0.        , 0.        , 0.07152682],\n",
       "       [0.10111203, 0.94      , 0.        , 0.        , 0.11004127],\n",
       "       [0.08051895, 0.98040404, 0.        , 0.        , 0.20357634],\n",
       "       [0.08051895, 0.96020202, 0.        , 0.        , 0.09353508],\n",
       "       [0.12108731, 0.11757576, 0.        , 0.        , 0.22008253],\n",
       "       [0.06054366, 0.09858586, 0.        , 0.        , 0.24209078],\n",
       "       [0.04056837, 0.05878788, 0.        , 0.        , 0.31499312],\n",
       "       [0.07990115, 0.11757576, 0.        , 0.        , 0.14580468],\n",
       "       [0.07990115, 0.13777778, 0.        , 0.        , 0.1829436 ],\n",
       "       [0.00123558, 0.        , 0.        , 0.        , 0.1650619 ],\n",
       "       [0.56054366, 0.52848485, 0.        , 0.        , 0.2957359 ],\n",
       "       [0.54056837, 0.50888889, 0.        , 0.        , 0.33425034],\n",
       "       [0.60049423, 0.60808081, 0.        , 0.        , 0.36863824],\n",
       "       [0.56054366, 0.56888889, 0.        , 0.        , 0.40715268],\n",
       "       [0.59987644, 0.60747475, 0.        , 0.        , 0.44429161],\n",
       "       [0.62046952, 0.60747475, 0.        , 0.        , 0.50068776],\n",
       "       [0.60049423, 0.56767677, 0.        , 0.        , 0.27647868],\n",
       "       [0.53933278, 0.56828283, 0.        , 0.        , 0.55708391],\n",
       "       [0.60049423, 0.60808081, 0.        , 0.        , 0.40577717],\n",
       "       [0.10049423, 0.58787879, 0.        , 0.        , 0.42778542],\n",
       "       [0.07990115, 0.56767677, 0.        , 1.        , 0.51994498],\n",
       "       [0.10111203, 0.56767677, 0.        , 1.        , 0.62998624],\n",
       "       [0.08051895, 0.58787879, 0.        , 1.        , 0.31499312],\n",
       "       [0.10049423, 0.56767677, 1.        , 1.        , 0.48280605],\n",
       "       [0.10111203, 0.58787879, 1.        , 1.        , 0.61210454],\n",
       "       [0.10111203, 0.60808081, 0.        , 1.        , 0.48005502],\n",
       "       [0.10111203, 0.60808081, 0.        , 1.        , 0.50068776],\n",
       "       [0.09987644, 0.58787879, 0.        , 1.        , 0.36863824],\n",
       "       [0.55930807, 0.58787879, 0.        , 1.        , 1.        ],\n",
       "       [0.59987644, 0.58727273, 0.        , 0.        , 0.31499312],\n",
       "       [0.55930807, 0.60808081, 0.        , 0.        , 0.20357634],\n",
       "       [0.49938221, 0.52909091, 0.        , 0.        , 0.29711142],\n",
       "       [0.58051895, 0.54808081, 0.        , 0.        , 0.51856946],\n",
       "       [0.53995058, 0.54868687, 0.        , 0.        , 0.07290234],\n",
       "       [0.47940692, 0.50949495, 0.        , 0.        , 0.51856946],\n",
       "       [0.55992586, 0.58848485, 0.        , 0.        , 0.24209078],\n",
       "       [0.53933278, 0.54808081, 0.        , 0.        , 0.33425034],\n",
       "       [0.51997529, 0.52909091, 0.        , 0.        , 0.46217331],\n",
       "       [0.55930807, 0.60808081, 0.        , 0.        , 0.50206327],\n",
       "       [0.55992586, 0.58848485, 0.        , 0.        , 0.1829436 ],\n",
       "       [0.60049423, 0.56767677, 0.        , 0.        , 0.46217331],\n",
       "       [0.57990115, 0.60808081, 0.        , 0.        , 0.5914718 ],\n",
       "       [0.62046952, 0.60747475, 0.        , 0.        , 0.40715268],\n",
       "       [0.53995058, 0.56888889, 0.        , 0.        , 0.44291609],\n",
       "       [0.62046952, 0.62767677, 0.        , 0.        , 0.1650619 ],\n",
       "       [0.55992586, 0.58848485, 0.        , 0.        , 0.44566713],\n",
       "       [0.53995058, 0.56888889, 0.        , 0.        , 0.48005502],\n",
       "       [0.5       , 0.50949495, 0.        , 0.        , 0.29436039],\n",
       "       [0.58051895, 0.56828283, 0.        , 0.        , 0.2778542 ],\n",
       "       [0.60049423, 0.56767677, 0.        , 0.        , 0.24071527],\n",
       "       [0.55930807, 0.58787879, 0.        , 0.        , 0.31499312],\n",
       "       [0.53933278, 0.56828283, 0.        , 0.        , 0.29711142],\n",
       "       [0.60049423, 0.56767677, 0.        , 0.        , 0.14855571],\n",
       "       [0.55930807, 0.60808081, 0.        , 0.        , 0.12792297],\n",
       "       [0.60049423, 0.60808081, 0.        , 0.        , 0.25722146],\n",
       "       [0.49938221, 0.50888889, 0.        , 0.        , 0.22145805],\n",
       "       [0.5       , 0.52969697, 0.        , 0.        , 0.24209078],\n",
       "       [0.46066722, 0.47090909, 0.        , 0.        , 0.20495186],\n",
       "       [0.55992586, 0.58848485, 0.        , 0.        , 0.27647868],\n",
       "       [0.53933278, 0.54808081, 0.        , 0.        , 0.44291609],\n",
       "       [0.54056837, 0.54929293, 0.        , 0.        , 0.27922971],\n",
       "       [0.55930807, 0.60808081, 0.        , 0.        , 0.29711142],\n",
       "       [0.31960461, 0.37292929, 0.        , 0.        , 0.25997249],\n",
       "       [0.38076606, 0.37232323, 0.        , 0.        , 0.24209078],\n",
       "       [0.28027183, 0.29393939, 0.        , 0.        , 0.16643741],\n",
       "       [0.31960461, 0.37292929, 0.        , 0.        , 0.07152682],\n",
       "       [0.36017298, 0.35212121, 0.        , 0.        , 0.2778542 ],\n",
       "       [0.40074135, 0.39191919, 0.        , 0.        , 0.29711142],\n",
       "       [0.3395799 , 0.39252525, 0.        , 0.        , 0.20357634],\n",
       "       [0.05992586, 0.37232323, 0.        , 0.        , 0.10866575],\n",
       "       [0.59925865, 0.64727273, 0.        , 0.        , 0.07427785],\n",
       "       [0.55930807, 0.60808081, 0.        , 0.        , 0.14855571],\n",
       "       [0.68039539, 0.64606061, 0.        , 0.        , 0.25722146],\n",
       "       [0.62046952, 0.62767677, 0.        , 0.        , 0.20357634],\n",
       "       [0.67977759, 0.66565657, 0.        , 0.        , 0.48280605],\n",
       "       [0.69975288, 0.72565657, 0.        , 0.        , 0.25997249],\n",
       "       [0.68039539, 0.64606061, 0.        , 0.        , 0.23933975],\n",
       "       [0.67977759, 0.66565657, 0.        , 0.        , 0.24071527],\n",
       "       [0.57990115, 0.58787879, 0.        , 0.        , 0.31361761],\n",
       "       [0.6791598 , 0.70545455, 0.        , 0.        , 0.12929849],\n",
       "       [0.69975288, 0.72565657, 0.        , 0.        , 0.25997249],\n",
       "       [0.6791598 , 0.70545455, 0.        , 0.        , 0.14580468],\n",
       "       [0.55930807, 0.60808081, 0.        , 0.        , 0.11004127],\n",
       "       [0.57928336, 0.60747475, 0.        , 0.        , 0.01788171],\n",
       "       [0.67977759, 0.70606061, 0.        , 0.        , 0.25859697],\n",
       "       [0.67977759, 0.70606061, 0.        , 0.        , 0.12792297],\n",
       "       [0.6791598 , 0.70545455, 0.        , 0.        , 0.        ],\n",
       "       [0.6791598 , 0.68525253, 0.        , 0.        , 0.01925722]])"
      ]
     },
     "execution_count": 52,
     "metadata": {},
     "output_type": "execute_result"
    }
   ],
   "source": [
    "scaler = MinMaxScaler(feature_range=(0,1))\n",
    "df_for_training_scaled = scaler.fit_transform(df_for_training)\n",
    "df_for_testing_scaled=scaler.transform(df_for_testing)\n",
    "df_for_training_scaled"
   ]
  },
  {
   "cell_type": "code",
   "execution_count": 53,
   "metadata": {
    "id": "PPkuD8iEHSaH"
   },
   "outputs": [],
   "source": [
    "#splittting the data in X AND y\n",
    "def createXY(dataset,n_past):\n",
    "    dataX = []\n",
    "    dataY = []\n",
    "    for i in range(n_past, len(dataset)):\n",
    "            dataX.append(dataset[i - n_past:i, 0:dataset.shape[1]])\n",
    "            dataY.append(dataset[i,0])\n",
    "    return np.array(dataX),np.array(dataY)\n",
    "trainX,trainY=createXY(df_for_training_scaled,20)\n",
    "testX,testY=createXY(df_for_testing_scaled,20)"
   ]
  },
  {
   "cell_type": "code",
   "execution_count": 54,
   "metadata": {
    "colab": {
     "base_uri": "https://localhost:8080/"
    },
    "id": "cPeCIIgFHZBH",
    "outputId": "ee65da53-7fab-4705-ac50-288eff7ead83"
   },
   "outputs": [
    {
     "name": "stdout",
     "output_type": "stream",
     "text": [
      "trainX Shape--  (96, 20, 5)\n",
      "trainY Shape--  (96,)\n"
     ]
    }
   ],
   "source": [
    "print(\"trainX Shape-- \",trainX.shape)\n",
    "print(\"trainY Shape-- \",trainY.shape)"
   ]
  },
  {
   "cell_type": "code",
   "execution_count": 55,
   "metadata": {
    "colab": {
     "base_uri": "https://localhost:8080/"
    },
    "id": "josgNypbHafR",
    "outputId": "24d5776e-0f5f-4e44-bf44-a47df9701c11"
   },
   "outputs": [
    {
     "name": "stdout",
     "output_type": "stream",
     "text": [
      "trainX Shape--  (96, 20, 5)\n",
      "trainY Shape--  (96,)\n"
     ]
    }
   ],
   "source": [
    "print(\"trainX Shape-- \",trainX.shape)\n",
    "print(\"trainY Shape-- \",trainY.shape)"
   ]
  },
  {
   "cell_type": "code",
   "execution_count": 16,
   "metadata": {
    "colab": {
     "base_uri": "https://localhost:8080/"
    },
    "id": "QS3dN9PQHbbF",
    "outputId": "b4ed463f-8995-4686-8f23-785a6286145e"
   },
   "outputs": [
    {
     "name": "stdout",
     "output_type": "stream",
     "text": [
      "trainX[0]-- \n",
      " [[0.40074135 0.72444444 0.         0.         0.16781293]\n",
      " [0.38014827 0.72444444 0.         0.         0.36863824]\n",
      " [0.32022241 0.35333333 0.         0.         0.05639615]\n",
      " [0.38076606 0.37232323 0.         0.         0.14855571]\n",
      " [0.59987644 0.62767677 0.         0.         0.22008253]\n",
      " [0.60049423 0.60808081 0.         0.         0.31636864]\n",
      " [0.57990115 0.60808081 0.         0.         0.12792297]\n",
      " [0.60049423 0.58787879 0.         0.         0.11004127]\n",
      " [0.35955519 0.37171717 0.         0.         0.1650619 ]\n",
      " [0.55992586 0.54808081 0.         0.         0.1650619 ]\n",
      " [0.60049423 0.56767677 0.         0.         0.25997249]\n",
      " [0.57990115 0.60808081 0.         0.         0.18569464]\n",
      " [0.57928336 0.60747475 0.         0.         0.01788171]\n",
      " [0.51997529 0.50888889 0.         0.         0.11004127]\n",
      " [0.         0.54929293 0.         0.         0.42778542]\n",
      " [0.         0.50888889 0.         0.         0.01650619]\n",
      " [0.10111203 0.54929293 0.         0.         0.2957359 ]\n",
      " [0.05992586 0.52909091 0.         0.         0.40577717]\n",
      " [0.05992586 0.54929293 0.         0.         0.25997249]\n",
      " [0.08051895 0.52909091 0.         0.         0.1829436 ]]\n",
      "trainY[0]--  0.06116144975288318\n"
     ]
    }
   ],
   "source": [
    "print(\"trainX[0]-- \\n\",trainX[0])\n",
    "print(\"trainY[0]-- \",trainY[0])"
   ]
  },
  {
   "cell_type": "code",
   "execution_count": 17,
   "metadata": {
    "colab": {
     "base_uri": "https://localhost:8080/"
    },
    "id": "m5HDAQ83Hep4",
    "outputId": "a56c662d-4114-4eb1-cd53-0087eb8651bf"
   },
   "outputs": [
    {
     "name": "stdout",
     "output_type": "stream",
     "text": [
      "20\n",
      "5\n"
     ]
    }
   ],
   "source": [
    "print(trainX.shape[1])\n",
    "print(trainX.shape[2])"
   ]
  },
  {
   "cell_type": "code",
   "execution_count": 10,
   "metadata": {
    "colab": {
     "base_uri": "https://localhost:8080/"
    },
    "id": "LvQSp-U3IxXD",
    "outputId": "bcea9636-cb65-4d4a-c1f7-a5378a87bef5"
   },
   "outputs": [
    {
     "name": "stdout",
     "output_type": "stream",
     "text": [
      "Collecting keras==2.12.0\n",
      "  Using cached keras-2.12.0-py2.py3-none-any.whl (1.7 MB)\n",
      "Installing collected packages: keras\n",
      "  Attempting uninstall: keras\n",
      "    Found existing installation: keras 2.15.0\n",
      "    Uninstalling keras-2.15.0:\n",
      "      Successfully uninstalled keras-2.15.0\n",
      "Successfully installed keras-2.12.0\n"
     ]
    },
    {
     "name": "stderr",
     "output_type": "stream",
     "text": [
      "ERROR: pip's dependency resolver does not currently take into account all the packages that are installed. This behaviour is the source of the following dependency conflicts.\n",
      "tensorflow-intel 2.15.0 requires keras<2.16,>=2.15.0, but you have keras 2.12.0 which is incompatible.\n"
     ]
    }
   ],
   "source": [
    "!pip install keras==2.12.0\n"
   ]
  },
  {
   "cell_type": "code",
   "execution_count": 11,
   "metadata": {
    "colab": {
     "base_uri": "https://localhost:8080/",
     "height": 1000
    },
    "id": "PVVKxm1ZIyW_",
    "outputId": "a57adef9-d5a5-4526-a5b3-dfa8ccf21e31"
   },
   "outputs": [
    {
     "name": "stdout",
     "output_type": "stream",
     "text": [
      "^C\n",
      "^C\n"
     ]
    }
   ],
   "source": [
    "!pip uninstall tensorflow\n",
    "!pip install tensorflow==2.12.0\n"
   ]
  },
  {
   "cell_type": "code",
   "execution_count": null,
   "metadata": {
    "id": "lxJ9Q3VII3J-"
   },
   "outputs": [],
   "source": []
  },
  {
   "cell_type": "code",
   "execution_count": 20,
   "metadata": {
    "colab": {
     "base_uri": "https://localhost:8080/"
    },
    "id": "aIMs6X5PHhZE",
    "outputId": "1ad494c7-730d-41ff-b8bf-957c62ebd807"
   },
   "outputs": [
    {
     "name": "stderr",
     "output_type": "stream",
     "text": [
      "<ipython-input-20-35a9b2f3528a>:13: DeprecationWarning: KerasRegressor is deprecated, use Sci-Keras (https://github.com/adriangb/scikeras) instead. See https://www.adriangb.com/scikeras/stable/migration.html for help migrating.\n",
      "  grid_model = KerasRegressor(build_fn=build_model,verbose=1,validation_data=(testX,testY))\n"
     ]
    }
   ],
   "source": [
    "from keras.wrappers.scikit_learn import KerasRegressor\n",
    "\n",
    "\n",
    "#applying model\n",
    "def build_model(optimizer):\n",
    "    grid_model = Sequential()\n",
    "    grid_model.add(LSTM(50,return_sequences=True,input_shape=(20,5)))\n",
    "    grid_model.add(LSTM(50))\n",
    "    grid_model.add(Dropout(0.2))\n",
    "    grid_model.add(Dense(1))\n",
    "    grid_model.compile(loss = 'mse',optimizer = optimizer)\n",
    "    return grid_model\n",
    "grid_model = KerasRegressor(build_fn=build_model,verbose=1,validation_data=(testX,testY))\n",
    "parameters = {'batch_size' : [2,4],\n",
    "              'epochs' : [8,10],\n",
    "              'optimizer' : ['adam','Adadelta'] }\n",
    "grid_search  = GridSearchCV(estimator = grid_model,\n",
    "                            param_grid = parameters,\n",
    "                            cv = 2)"
   ]
  },
  {
   "cell_type": "code",
   "execution_count": 21,
   "metadata": {
    "colab": {
     "base_uri": "https://localhost:8080/"
    },
    "id": "-rHtqi_LHiqN",
    "outputId": "8c136c7c-58d1-402a-a6a3-77a999a03d3b"
   },
   "outputs": [
    {
     "name": "stdout",
     "output_type": "stream",
     "text": [
      "Epoch 1/8\n",
      "24/24 [==============================] - 5s 67ms/step - loss: 0.0818 - val_loss: 0.0326\n",
      "Epoch 2/8\n",
      "24/24 [==============================] - 0s 15ms/step - loss: 0.0239 - val_loss: 0.0168\n",
      "Epoch 3/8\n",
      "24/24 [==============================] - 0s 16ms/step - loss: 0.0241 - val_loss: 0.0028\n",
      "Epoch 4/8\n",
      "24/24 [==============================] - 0s 15ms/step - loss: 0.0224 - val_loss: 0.0036\n",
      "Epoch 5/8\n",
      "24/24 [==============================] - 0s 19ms/step - loss: 0.0189 - val_loss: 0.0137\n",
      "Epoch 6/8\n",
      "24/24 [==============================] - 1s 22ms/step - loss: 0.0202 - val_loss: 0.0112\n",
      "Epoch 7/8\n",
      "24/24 [==============================] - 1s 24ms/step - loss: 0.0193 - val_loss: 0.0030\n",
      "Epoch 8/8\n",
      "24/24 [==============================] - 1s 25ms/step - loss: 0.0192 - val_loss: 0.0044\n",
      "24/24 [==============================] - 0s 5ms/step - loss: 0.1178\n",
      "Epoch 1/8\n",
      "24/24 [==============================] - 4s 52ms/step - loss: 0.1259 - val_loss: 0.1422\n",
      "Epoch 2/8\n",
      "24/24 [==============================] - 0s 17ms/step - loss: 0.0943 - val_loss: 0.2942\n",
      "Epoch 3/8\n",
      "24/24 [==============================] - 0s 21ms/step - loss: 0.1003 - val_loss: 0.1202\n",
      "Epoch 4/8\n",
      "24/24 [==============================] - 1s 23ms/step - loss: 0.0739 - val_loss: 0.2398\n",
      "Epoch 5/8\n",
      "24/24 [==============================] - 1s 23ms/step - loss: 0.0710 - val_loss: 0.2231\n",
      "Epoch 6/8\n",
      "24/24 [==============================] - 1s 22ms/step - loss: 0.0610 - val_loss: 0.4171\n",
      "Epoch 7/8\n",
      "24/24 [==============================] - 1s 22ms/step - loss: 0.0628 - val_loss: 0.2426\n",
      "Epoch 8/8\n",
      "24/24 [==============================] - 1s 23ms/step - loss: 0.0631 - val_loss: 0.1532\n",
      "24/24 [==============================] - 0s 7ms/step - loss: 0.0714\n",
      "Epoch 1/8\n",
      "24/24 [==============================] - 4s 53ms/step - loss: 0.2762 - val_loss: 0.4582\n",
      "Epoch 2/8\n",
      "24/24 [==============================] - 0s 15ms/step - loss: 0.2717 - val_loss: 0.4535\n",
      "Epoch 3/8\n",
      "24/24 [==============================] - 0s 18ms/step - loss: 0.2710 - val_loss: 0.4490\n",
      "Epoch 4/8\n",
      "24/24 [==============================] - 0s 16ms/step - loss: 0.2683 - val_loss: 0.4444\n",
      "Epoch 5/8\n",
      "24/24 [==============================] - 0s 15ms/step - loss: 0.2635 - val_loss: 0.4399\n",
      "Epoch 6/8\n",
      "24/24 [==============================] - 0s 16ms/step - loss: 0.2518 - val_loss: 0.4353\n",
      "Epoch 7/8\n",
      "24/24 [==============================] - 0s 15ms/step - loss: 0.2549 - val_loss: 0.4308\n",
      "Epoch 8/8\n",
      "24/24 [==============================] - 0s 15ms/step - loss: 0.2489 - val_loss: 0.4263\n",
      "24/24 [==============================] - 0s 5ms/step - loss: 0.1665\n",
      "Epoch 1/8\n",
      "24/24 [==============================] - 6s 51ms/step - loss: 0.2666 - val_loss: 0.6645\n",
      "Epoch 2/8\n",
      "24/24 [==============================] - 0s 16ms/step - loss: 0.2754 - val_loss: 0.6623\n",
      "Epoch 3/8\n",
      "24/24 [==============================] - 0s 15ms/step - loss: 0.2704 - val_loss: 0.6601\n",
      "Epoch 4/8\n",
      "24/24 [==============================] - 0s 15ms/step - loss: 0.2780 - val_loss: 0.6579\n",
      "Epoch 5/8\n",
      "24/24 [==============================] - 0s 15ms/step - loss: 0.2690 - val_loss: 0.6557\n",
      "Epoch 6/8\n",
      "24/24 [==============================] - 0s 17ms/step - loss: 0.2625 - val_loss: 0.6534\n",
      "Epoch 7/8\n",
      "24/24 [==============================] - 0s 14ms/step - loss: 0.2634 - val_loss: 0.6511\n",
      "Epoch 8/8\n",
      "24/24 [==============================] - 0s 15ms/step - loss: 0.2621 - val_loss: 0.6488\n",
      "24/24 [==============================] - 0s 6ms/step - loss: 0.4231\n",
      "Epoch 1/10\n",
      "24/24 [==============================] - 5s 68ms/step - loss: 0.0606 - val_loss: 0.0364\n",
      "Epoch 2/10\n",
      "24/24 [==============================] - 1s 23ms/step - loss: 0.0251 - val_loss: 0.0211\n",
      "Epoch 3/10\n",
      "24/24 [==============================] - 1s 22ms/step - loss: 0.0297 - val_loss: 0.0308\n",
      "Epoch 4/10\n",
      "24/24 [==============================] - 1s 24ms/step - loss: 0.0179 - val_loss: 0.0037\n",
      "Epoch 5/10\n",
      "24/24 [==============================] - 1s 27ms/step - loss: 0.0224 - val_loss: 0.0144\n",
      "Epoch 6/10\n",
      "24/24 [==============================] - 0s 15ms/step - loss: 0.0156 - val_loss: 0.0029\n",
      "Epoch 7/10\n",
      "24/24 [==============================] - 0s 15ms/step - loss: 0.0201 - val_loss: 0.0067\n",
      "Epoch 8/10\n",
      "24/24 [==============================] - 0s 15ms/step - loss: 0.0187 - val_loss: 0.0034\n",
      "Epoch 9/10\n",
      "24/24 [==============================] - 0s 15ms/step - loss: 0.0279 - val_loss: 0.0162\n",
      "Epoch 10/10\n",
      "24/24 [==============================] - 0s 15ms/step - loss: 0.0166 - val_loss: 0.0110\n",
      "24/24 [==============================] - 0s 5ms/step - loss: 0.1119\n",
      "Epoch 1/10\n",
      "24/24 [==============================] - 5s 79ms/step - loss: 0.1015 - val_loss: 0.1634\n",
      "Epoch 2/10\n",
      "24/24 [==============================] - 0s 17ms/step - loss: 0.1021 - val_loss: 0.1843\n",
      "Epoch 3/10\n",
      "24/24 [==============================] - 0s 18ms/step - loss: 0.0771 - val_loss: 0.1475\n",
      "Epoch 4/10\n",
      "24/24 [==============================] - 0s 18ms/step - loss: 0.0805 - val_loss: 0.2405\n",
      "Epoch 5/10\n",
      "24/24 [==============================] - 0s 16ms/step - loss: 0.0620 - val_loss: 0.1032\n",
      "Epoch 6/10\n",
      "24/24 [==============================] - 0s 17ms/step - loss: 0.0484 - val_loss: 0.2230\n",
      "Epoch 7/10\n",
      "24/24 [==============================] - 1s 23ms/step - loss: 0.0602 - val_loss: 0.2474\n",
      "Epoch 8/10\n",
      "24/24 [==============================] - 1s 25ms/step - loss: 0.0541 - val_loss: 0.3866\n",
      "Epoch 9/10\n",
      "24/24 [==============================] - 1s 28ms/step - loss: 0.0598 - val_loss: 0.1086\n",
      "Epoch 10/10\n",
      "24/24 [==============================] - 1s 25ms/step - loss: 0.0528 - val_loss: 0.2168\n",
      "24/24 [==============================] - 0s 6ms/step - loss: 0.1151\n",
      "Epoch 1/10\n",
      "24/24 [==============================] - 5s 54ms/step - loss: 0.5866 - val_loss: 0.8033\n",
      "Epoch 2/10\n",
      "24/24 [==============================] - 0s 15ms/step - loss: 0.5811 - val_loss: 0.7980\n",
      "Epoch 3/10\n",
      "24/24 [==============================] - 0s 16ms/step - loss: 0.5801 - val_loss: 0.7927\n",
      "Epoch 4/10\n",
      "24/24 [==============================] - 0s 18ms/step - loss: 0.5659 - val_loss: 0.7873\n",
      "Epoch 5/10\n",
      "24/24 [==============================] - 1s 24ms/step - loss: 0.5693 - val_loss: 0.7818\n",
      "Epoch 6/10\n",
      "24/24 [==============================] - 1s 25ms/step - loss: 0.5623 - val_loss: 0.7764\n",
      "Epoch 7/10\n",
      "24/24 [==============================] - 1s 23ms/step - loss: 0.5689 - val_loss: 0.7708\n",
      "Epoch 8/10\n",
      "24/24 [==============================] - 1s 24ms/step - loss: 0.5522 - val_loss: 0.7653\n",
      "Epoch 9/10\n",
      "24/24 [==============================] - 1s 25ms/step - loss: 0.5547 - val_loss: 0.7598\n",
      "Epoch 10/10\n",
      "24/24 [==============================] - 1s 24ms/step - loss: 0.5475 - val_loss: 0.7543\n",
      "24/24 [==============================] - 0s 4ms/step - loss: 0.3587\n",
      "Epoch 1/10\n",
      "24/24 [==============================] - 4s 53ms/step - loss: 0.2668 - val_loss: 0.6037\n",
      "Epoch 2/10\n",
      "24/24 [==============================] - 0s 16ms/step - loss: 0.2660 - val_loss: 0.6007\n",
      "Epoch 3/10\n",
      "24/24 [==============================] - 0s 18ms/step - loss: 0.2684 - val_loss: 0.5976\n",
      "Epoch 4/10\n",
      "24/24 [==============================] - 0s 16ms/step - loss: 0.2622 - val_loss: 0.5946\n",
      "Epoch 5/10\n",
      "24/24 [==============================] - 0s 15ms/step - loss: 0.2600 - val_loss: 0.5917\n",
      "Epoch 6/10\n",
      "24/24 [==============================] - 0s 15ms/step - loss: 0.2627 - val_loss: 0.5887\n",
      "Epoch 7/10\n",
      "24/24 [==============================] - 0s 16ms/step - loss: 0.2687 - val_loss: 0.5857\n",
      "Epoch 8/10\n",
      "24/24 [==============================] - 0s 16ms/step - loss: 0.2580 - val_loss: 0.5827\n",
      "Epoch 9/10\n",
      "24/24 [==============================] - 0s 16ms/step - loss: 0.2652 - val_loss: 0.5798\n",
      "Epoch 10/10\n",
      "24/24 [==============================] - 0s 15ms/step - loss: 0.2493 - val_loss: 0.5769\n",
      "24/24 [==============================] - 0s 4ms/step - loss: 0.3891\n",
      "Epoch 1/8\n",
      "12/12 [==============================] - 6s 101ms/step - loss: 0.0808 - val_loss: 0.0048\n",
      "Epoch 2/8\n",
      "12/12 [==============================] - 0s 18ms/step - loss: 0.0238 - val_loss: 0.0401\n",
      "Epoch 3/8\n",
      "12/12 [==============================] - 0s 19ms/step - loss: 0.0214 - val_loss: 0.0073\n",
      "Epoch 4/8\n",
      "12/12 [==============================] - 0s 19ms/step - loss: 0.0244 - val_loss: 0.0252\n",
      "Epoch 5/8\n",
      "12/12 [==============================] - 0s 18ms/step - loss: 0.0166 - val_loss: 0.0156\n",
      "Epoch 6/8\n",
      "12/12 [==============================] - 0s 20ms/step - loss: 0.0171 - val_loss: 0.0162\n",
      "Epoch 7/8\n",
      "12/12 [==============================] - 0s 17ms/step - loss: 0.0187 - val_loss: 0.0066\n",
      "Epoch 8/8\n",
      "12/12 [==============================] - 0s 18ms/step - loss: 0.0229 - val_loss: 0.0117\n",
      "12/12 [==============================] - 0s 6ms/step - loss: 0.1175\n",
      "Epoch 1/8\n",
      "12/12 [==============================] - 5s 155ms/step - loss: 0.1419 - val_loss: 0.0351\n",
      "Epoch 2/8\n",
      "12/12 [==============================] - 0s 26ms/step - loss: 0.0892 - val_loss: 0.1621\n",
      "Epoch 3/8\n",
      "12/12 [==============================] - 0s 31ms/step - loss: 0.0861 - val_loss: 0.1162\n",
      "Epoch 4/8\n",
      "12/12 [==============================] - 0s 30ms/step - loss: 0.0831 - val_loss: 0.1250\n",
      "Epoch 5/8\n",
      "12/12 [==============================] - 0s 30ms/step - loss: 0.0823 - val_loss: 0.1512\n",
      "Epoch 6/8\n",
      "12/12 [==============================] - 0s 19ms/step - loss: 0.0754 - val_loss: 0.1617\n",
      "Epoch 7/8\n",
      "12/12 [==============================] - 0s 19ms/step - loss: 0.0704 - val_loss: 0.1607\n",
      "Epoch 8/8\n",
      "12/12 [==============================] - 0s 18ms/step - loss: 0.0580 - val_loss: 0.2630\n",
      "12/12 [==============================] - 0s 6ms/step - loss: 0.1127\n",
      "Epoch 1/8\n",
      "12/12 [==============================] - 4s 96ms/step - loss: 0.3601 - val_loss: 0.5654\n",
      "Epoch 2/8\n",
      "12/12 [==============================] - 0s 18ms/step - loss: 0.3568 - val_loss: 0.5625\n",
      "Epoch 3/8\n",
      "12/12 [==============================] - 0s 17ms/step - loss: 0.3516 - val_loss: 0.5596\n",
      "Epoch 4/8\n",
      "12/12 [==============================] - 0s 18ms/step - loss: 0.3632 - val_loss: 0.5566\n",
      "Epoch 5/8\n",
      "12/12 [==============================] - 0s 17ms/step - loss: 0.3438 - val_loss: 0.5537\n",
      "Epoch 6/8\n",
      "12/12 [==============================] - 0s 17ms/step - loss: 0.3391 - val_loss: 0.5508\n",
      "Epoch 7/8\n",
      "12/12 [==============================] - 0s 17ms/step - loss: 0.3542 - val_loss: 0.5478\n",
      "Epoch 8/8\n",
      "12/12 [==============================] - 0s 18ms/step - loss: 0.3415 - val_loss: 0.5449\n",
      "12/12 [==============================] - 0s 5ms/step - loss: 0.2194\n",
      "Epoch 1/8\n",
      "12/12 [==============================] - 6s 100ms/step - loss: 0.2039 - val_loss: 0.3979\n",
      "Epoch 2/8\n",
      "12/12 [==============================] - 0s 20ms/step - loss: 0.2073 - val_loss: 0.3962\n",
      "Epoch 3/8\n",
      "12/12 [==============================] - 0s 21ms/step - loss: 0.2040 - val_loss: 0.3946\n",
      "Epoch 4/8\n",
      "12/12 [==============================] - 0s 20ms/step - loss: 0.2006 - val_loss: 0.3931\n",
      "Epoch 5/8\n",
      "12/12 [==============================] - 0s 20ms/step - loss: 0.1994 - val_loss: 0.3915\n",
      "Epoch 6/8\n",
      "12/12 [==============================] - 0s 20ms/step - loss: 0.2058 - val_loss: 0.3899\n",
      "Epoch 7/8\n",
      "12/12 [==============================] - 0s 21ms/step - loss: 0.1992 - val_loss: 0.3883\n",
      "Epoch 8/8\n",
      "12/12 [==============================] - 0s 21ms/step - loss: 0.1960 - val_loss: 0.3867\n",
      "12/12 [==============================] - 0s 6ms/step - loss: 0.2513\n",
      "Epoch 1/10\n",
      "12/12 [==============================] - 5s 119ms/step - loss: 0.1132 - val_loss: 0.0217\n",
      "Epoch 2/10\n",
      "12/12 [==============================] - 0s 26ms/step - loss: 0.0345 - val_loss: 0.0296\n",
      "Epoch 3/10\n",
      "12/12 [==============================] - 0s 27ms/step - loss: 0.0206 - val_loss: 0.0031\n",
      "Epoch 4/10\n",
      "12/12 [==============================] - 0s 28ms/step - loss: 0.0217 - val_loss: 0.0145\n",
      "Epoch 5/10\n",
      "12/12 [==============================] - 0s 25ms/step - loss: 0.0206 - val_loss: 0.0082\n",
      "Epoch 6/10\n",
      "12/12 [==============================] - 0s 28ms/step - loss: 0.0181 - val_loss: 0.0062\n",
      "Epoch 7/10\n",
      "12/12 [==============================] - 0s 25ms/step - loss: 0.0193 - val_loss: 0.0118\n",
      "Epoch 8/10\n",
      "12/12 [==============================] - 0s 26ms/step - loss: 0.0186 - val_loss: 0.0080\n",
      "Epoch 9/10\n",
      "12/12 [==============================] - 0s 27ms/step - loss: 0.0206 - val_loss: 0.0035\n",
      "Epoch 10/10\n",
      "12/12 [==============================] - 0s 28ms/step - loss: 0.0173 - val_loss: 0.0078\n",
      "12/12 [==============================] - 0s 5ms/step - loss: 0.1204\n",
      "Epoch 1/10\n",
      "12/12 [==============================] - 4s 96ms/step - loss: 0.1530 - val_loss: 0.0196\n",
      "Epoch 2/10\n",
      "12/12 [==============================] - 0s 17ms/step - loss: 0.0966 - val_loss: 0.1836\n",
      "Epoch 3/10\n",
      "12/12 [==============================] - 0s 16ms/step - loss: 0.1023 - val_loss: 0.0915\n",
      "Epoch 4/10\n",
      "12/12 [==============================] - 0s 17ms/step - loss: 0.0880 - val_loss: 0.0810\n",
      "Epoch 5/10\n",
      "12/12 [==============================] - 0s 17ms/step - loss: 0.0833 - val_loss: 0.1358\n",
      "Epoch 6/10\n",
      "12/12 [==============================] - 0s 18ms/step - loss: 0.0788 - val_loss: 0.1548\n",
      "Epoch 7/10\n",
      "12/12 [==============================] - 0s 17ms/step - loss: 0.0714 - val_loss: 0.1649\n",
      "Epoch 8/10\n",
      "12/12 [==============================] - 0s 18ms/step - loss: 0.0715 - val_loss: 0.1442\n",
      "Epoch 9/10\n",
      "12/12 [==============================] - 0s 17ms/step - loss: 0.0644 - val_loss: 0.2026\n",
      "Epoch 10/10\n",
      "12/12 [==============================] - 0s 17ms/step - loss: 0.0564 - val_loss: 0.1408\n",
      "12/12 [==============================] - 0s 5ms/step - loss: 0.0601\n",
      "Epoch 1/10\n",
      "12/12 [==============================] - 6s 98ms/step - loss: 0.3068 - val_loss: 0.5070\n",
      "Epoch 2/10\n",
      "12/12 [==============================] - 0s 19ms/step - loss: 0.2815 - val_loss: 0.5043\n",
      "Epoch 3/10\n",
      "12/12 [==============================] - 0s 21ms/step - loss: 0.3035 - val_loss: 0.5013\n",
      "Epoch 4/10\n",
      "12/12 [==============================] - 0s 19ms/step - loss: 0.2880 - val_loss: 0.4985\n",
      "Epoch 5/10\n",
      "12/12 [==============================] - 0s 20ms/step - loss: 0.2941 - val_loss: 0.4956\n",
      "Epoch 6/10\n",
      "12/12 [==============================] - 0s 21ms/step - loss: 0.2846 - val_loss: 0.4928\n",
      "Epoch 7/10\n",
      "12/12 [==============================] - 0s 21ms/step - loss: 0.2819 - val_loss: 0.4899\n",
      "Epoch 8/10\n",
      "12/12 [==============================] - 0s 20ms/step - loss: 0.2817 - val_loss: 0.4871\n",
      "Epoch 9/10\n",
      "12/12 [==============================] - 0s 20ms/step - loss: 0.2962 - val_loss: 0.4842\n",
      "Epoch 10/10\n",
      "12/12 [==============================] - 0s 21ms/step - loss: 0.2827 - val_loss: 0.4813\n",
      "12/12 [==============================] - 0s 8ms/step - loss: 0.1547\n",
      "Epoch 1/10\n",
      "12/12 [==============================] - 4s 111ms/step - loss: 0.2943 - val_loss: 0.7529\n",
      "Epoch 2/10\n",
      "12/12 [==============================] - 0s 27ms/step - loss: 0.2771 - val_loss: 0.7499\n",
      "Epoch 3/10\n",
      "12/12 [==============================] - 1s 61ms/step - loss: 0.2779 - val_loss: 0.7469\n",
      "Epoch 4/10\n",
      "12/12 [==============================] - 0s 38ms/step - loss: 0.2837 - val_loss: 0.7438\n",
      "Epoch 5/10\n",
      "12/12 [==============================] - 0s 36ms/step - loss: 0.2854 - val_loss: 0.7408\n",
      "Epoch 6/10\n",
      "12/12 [==============================] - 0s 31ms/step - loss: 0.2845 - val_loss: 0.7378\n",
      "Epoch 7/10\n",
      "12/12 [==============================] - 0s 28ms/step - loss: 0.2803 - val_loss: 0.7347\n",
      "Epoch 8/10\n",
      "12/12 [==============================] - 0s 37ms/step - loss: 0.2751 - val_loss: 0.7318\n",
      "Epoch 9/10\n",
      "12/12 [==============================] - 0s 40ms/step - loss: 0.2649 - val_loss: 0.7290\n",
      "Epoch 10/10\n",
      "12/12 [==============================] - 0s 23ms/step - loss: 0.2658 - val_loss: 0.7262\n",
      "12/12 [==============================] - 0s 6ms/step - loss: 0.4585\n",
      "Epoch 1/10\n",
      "24/24 [==============================] - 5s 56ms/step - loss: 0.0812 - val_loss: 0.0481\n",
      "Epoch 2/10\n",
      "24/24 [==============================] - 0s 15ms/step - loss: 0.0621 - val_loss: 0.0512\n",
      "Epoch 3/10\n",
      "24/24 [==============================] - 0s 16ms/step - loss: 0.0588 - val_loss: 0.0340\n",
      "Epoch 4/10\n",
      "24/24 [==============================] - 0s 15ms/step - loss: 0.0593 - val_loss: 0.0506\n",
      "Epoch 5/10\n",
      "24/24 [==============================] - 0s 15ms/step - loss: 0.0546 - val_loss: 0.0740\n",
      "Epoch 6/10\n",
      "24/24 [==============================] - 0s 15ms/step - loss: 0.0564 - val_loss: 0.0770\n",
      "Epoch 7/10\n",
      "24/24 [==============================] - 0s 15ms/step - loss: 0.0477 - val_loss: 0.0102\n",
      "Epoch 8/10\n",
      "24/24 [==============================] - 0s 16ms/step - loss: 0.0465 - val_loss: 0.0081\n",
      "Epoch 9/10\n",
      "24/24 [==============================] - 0s 16ms/step - loss: 0.0429 - val_loss: 0.0074\n",
      "Epoch 10/10\n",
      "24/24 [==============================] - 0s 15ms/step - loss: 0.0506 - val_loss: 0.0894\n"
     ]
    }
   ],
   "source": [
    "grid_search = grid_search.fit(trainX,trainY)"
   ]
  },
  {
   "cell_type": "code",
   "execution_count": 23,
   "metadata": {
    "colab": {
     "base_uri": "https://localhost:8080/"
    },
    "id": "qNLz3GK9Hnn7",
    "outputId": "d11d61dc-1960-492b-b391-1302f8025479"
   },
   "outputs": [
    {
     "data": {
      "text/plain": [
       "{'batch_size': 4, 'epochs': 10, 'optimizer': 'adam'}"
      ]
     },
     "execution_count": 23,
     "metadata": {},
     "output_type": "execute_result"
    }
   ],
   "source": [
    "grid_search.best_params_"
   ]
  },
  {
   "cell_type": "code",
   "execution_count": 24,
   "metadata": {
    "id": "wSMnlczkKqmK"
   },
   "outputs": [],
   "source": [
    "lstm_model=grid_search.best_estimator_.model"
   ]
  },
  {
   "cell_type": "code",
   "execution_count": 25,
   "metadata": {
    "colab": {
     "base_uri": "https://localhost:8080/"
    },
    "id": "NeVmWLmjK0IW",
    "outputId": "f5c3fab1-3d93-439c-964a-d01cb3589b41"
   },
   "outputs": [
    {
     "name": "stdout",
     "output_type": "stream",
     "text": [
      "1/1 [==============================] - 2s 2s/step\n",
      "prediction\n",
      " [[0.41521138]\n",
      " [0.41795352]\n",
      " [0.4186302 ]\n",
      " [0.41486335]\n",
      " [0.41195768]\n",
      " [0.40926325]\n",
      " [0.4081251 ]\n",
      " [0.41019425]\n",
      " [0.41413212]]\n",
      "\n",
      "Prediction Shape- (9, 1)\n"
     ]
    }
   ],
   "source": [
    "prediction=lstm_model.predict(testX)\n",
    "print(\"prediction\\n\", prediction)\n",
    "print(\"\\nPrediction Shape-\",prediction.shape)"
   ]
  },
  {
   "cell_type": "code",
   "execution_count": 34,
   "metadata": {
    "id": "6cWLIrixK4PQ"
   },
   "outputs": [],
   "source": []
  },
  {
   "cell_type": "code",
   "execution_count": 27,
   "metadata": {
    "id": "5VgpIaOEK_SD"
   },
   "outputs": [],
   "source": [
    "prediction_copies_array = np.repeat(prediction,5, axis=-1)\n",
    "\n"
   ]
  },
  {
   "cell_type": "code",
   "execution_count": 35,
   "metadata": {
    "colab": {
     "base_uri": "https://localhost:8080/"
    },
    "id": "XU4wPcm_Nmdz",
    "outputId": "6eb2db20-f9e6-4caf-8448-4f4debddf91d"
   },
   "outputs": [
    {
     "data": {
      "text/plain": [
       "array([[0.41521138, 0.41521138, 0.41521138, 0.41521138, 0.41521138],\n",
       "       [0.41795352, 0.41795352, 0.41795352, 0.41795352, 0.41795352],\n",
       "       [0.4186302 , 0.4186302 , 0.4186302 , 0.4186302 , 0.4186302 ],\n",
       "       [0.41486335, 0.41486335, 0.41486335, 0.41486335, 0.41486335],\n",
       "       [0.41195768, 0.41195768, 0.41195768, 0.41195768, 0.41195768],\n",
       "       [0.40926325, 0.40926325, 0.40926325, 0.40926325, 0.40926325],\n",
       "       [0.4081251 , 0.4081251 , 0.4081251 , 0.4081251 , 0.4081251 ],\n",
       "       [0.41019425, 0.41019425, 0.41019425, 0.41019425, 0.41019425],\n",
       "       [0.41413212, 0.41413212, 0.41413212, 0.41413212, 0.41413212]],\n",
       "      dtype=float32)"
      ]
     },
     "execution_count": 35,
     "metadata": {},
     "output_type": "execute_result"
    }
   ],
   "source": [
    "prediction_copies_array"
   ]
  },
  {
   "cell_type": "code",
   "execution_count": 28,
   "metadata": {
    "colab": {
     "base_uri": "https://localhost:8080/"
    },
    "id": "ynnTG2X-LIVv",
    "outputId": "bd3f416a-9004-47b1-fa72-806c1efe6329"
   },
   "outputs": [
    {
     "data": {
      "text/plain": [
       "(9, 5)"
      ]
     },
     "execution_count": 28,
     "metadata": {},
     "output_type": "execute_result"
    }
   ],
   "source": [
    "prediction_copies_array.shape"
   ]
  },
  {
   "cell_type": "code",
   "execution_count": 29,
   "metadata": {
    "id": "dXiqVEhdLNXT"
   },
   "outputs": [],
   "source": [
    "pred=scaler.inverse_transform(np.reshape(prediction_copies_array,(len(prediction),5)))[:,0]"
   ]
  },
  {
   "cell_type": "code",
   "execution_count": 30,
   "metadata": {
    "id": "fmSRnctlLPRk"
   },
   "outputs": [],
   "source": [
    "original_copies_array = np.repeat(testY,5, axis=-1)\n",
    "original=scaler.inverse_transform(np.reshape(original_copies_array,(len(testY),5)))[:,0]"
   ]
  },
  {
   "cell_type": "code",
   "execution_count": 31,
   "metadata": {
    "colab": {
     "base_uri": "https://localhost:8080/"
    },
    "id": "NQlKjO-qLSnu",
    "outputId": "26229da1-bef0-4e5e-c8a9-1735be9f8817"
   },
   "outputs": [
    {
     "name": "stdout",
     "output_type": "stream",
     "text": [
      "Pred Values--  [137.53267 137.66582 137.69868 137.51576 137.37466 137.24382 137.18855\n",
      " 137.28903 137.48026]\n",
      "\n",
      "Original Values--  [153.29 155.23 150.35 151.35 150.35 148.47 150.35 150.35 156.23]\n"
     ]
    }
   ],
   "source": [
    "print(\"Pred Values-- \" ,pred)\n",
    "print(\"\\nOriginal Values-- \" ,original)"
   ]
  },
  {
   "cell_type": "code",
   "execution_count": 33,
   "metadata": {
    "colab": {
     "base_uri": "https://localhost:8080/"
    },
    "id": "QvtkzbPrLuQ7",
    "outputId": "7ec482ed-f5c5-420e-a8c0-c21240427810"
   },
   "outputs": [
    {
     "name": "stdout",
     "output_type": "stream",
     "text": [
      "Mean Squared Error: 210.88754034566767\n"
     ]
    }
   ],
   "source": [
    "from sklearn.metrics import mean_squared_error\n",
    "\n",
    "mse = mean_squared_error(original, pred)\n",
    "\n",
    "print(\"Mean Squared Error:\", mse)"
   ]
  },
  {
   "cell_type": "code",
   "execution_count": 34,
   "metadata": {
    "colab": {
     "base_uri": "https://localhost:8080/",
     "height": 472
    },
    "id": "b4ie6od_LUQu",
    "outputId": "ba8f2649-83db-46c0-ea99-ffabc18c36b5"
   },
   "outputs": [
    {
     "data": {
      "image/png": "[encoded data removed]",
      "text/plain": [
       "<Figure size 640x480 with 1 Axes>"
      ]
     },
     "metadata": {},
     "output_type": "display_data"
    }
   ],
   "source": [
    "plt.plot(original, color = 'red', label = 'ORIGINAL VALUES')\n",
    "plt.plot(pred, color = 'blue', label = 'PRED VALUES')\n",
    "plt.title('Stock Price Prediction')\n",
    "plt.xlabel('Time')\n",
    "plt.ylabel('Google Stock Price')\n",
    "plt.legend()\n",
    "plt.show()"
   ]
  },
  {
   "cell_type": "code",
   "execution_count": null,
   "metadata": {},
   "outputs": [],
   "source": []
  }
 ],
 "metadata": {
  "colab": {
   "provenance": []
  },
  "kernelspec": {
   "display_name": "Python 3 (ipykernel)",
   "language": "python",
   "name": "python3"
  },
  "language_info": {
   "codemirror_mode": {
    "name": "ipython",
    "version": 3
   },
   "file_extension": ".py",
   "mimetype": "text/x-python",
   "name": "python",
   "nbconvert_exporter": "python",
   "pygments_lexer": "ipython3",
   "version": "3.11.5"
  }
 },
 "nbformat": 4,
 "nbformat_minor": 1
}
