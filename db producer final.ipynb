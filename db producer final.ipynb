{
 "cells": [
  {
   "cell_type": "code",
   "execution_count": 16,
   "id": "c51878f0",
   "metadata": {},
   "outputs": [
    {
     "name": "stdout",
     "output_type": "stream",
     "text": [
      "^C\n"
     ]
    }
   ],
   "source": []
  },
  {
   "cell_type": "code",
   "execution_count": 1,
   "id": "bdd61a9e",
   "metadata": {},
   "outputs": [
    {
     "name": "stdout",
     "output_type": "stream",
     "text": [
      "Requirement already satisfied: pymongo in d:\\conda\\lib\\site-packages (4.6.1)\n",
      "Requirement already satisfied: dnspython<3.0.0,>=1.16.0 in d:\\conda\\lib\\site-packages (from pymongo) (2.4.2)\n"
     ]
    }
   ],
   "source": [
    "!pip install pymongo"
   ]
  },
  {
   "cell_type": "code",
   "execution_count": 1,
   "id": "b0e5d3ba",
   "metadata": {},
   "outputs": [],
   "source": [
    "import pymongo\n",
    "import pandas as pd"
   ]
  },
  {
   "cell_type": "code",
   "execution_count": 2,
   "id": "51b4dbe1",
   "metadata": {},
   "outputs": [],
   "source": [
    "client = pymongo.MongoClient(\"mongodb://localhost:27017\")"
   ]
  },
  {
   "cell_type": "code",
   "execution_count": 3,
   "id": "c56c163c",
   "metadata": {},
   "outputs": [],
   "source": [
    "db=client[\"maindata\"]"
   ]
  },
  {
   "cell_type": "code",
   "execution_count": 4,
   "id": "4502979a",
   "metadata": {},
   "outputs": [
    {
     "name": "stdout",
     "output_type": "stream",
     "text": [
      "Database(MongoClient(host=['localhost:27017'], document_class=dict, tz_aware=False, connect=True), 'maindata')\n"
     ]
    }
   ],
   "source": [
    "print(db)"
   ]
  },
  {
   "cell_type": "code",
   "execution_count": 5,
   "id": "886fbfb2",
   "metadata": {},
   "outputs": [],
   "source": [
    "mycollection = db[\"bigdata\"]"
   ]
  },
  {
   "cell_type": "code",
   "execution_count": 6,
   "id": "3bfd8dbb",
   "metadata": {},
   "outputs": [
    {
     "name": "stdout",
     "output_type": "stream",
     "text": [
      "Collection(Database(MongoClient(host=['localhost:27017'], document_class=dict, tz_aware=False, connect=True), 'maindata'), 'bigdata')\n"
     ]
    }
   ],
   "source": [
    "print(mycollection)"
   ]
  },
  {
   "cell_type": "code",
   "execution_count": 7,
   "id": "3c02653a",
   "metadata": {},
   "outputs": [],
   "source": [
    "one_record = mycollection.find_one()"
   ]
  },
  {
   "cell_type": "code",
   "execution_count": 8,
   "id": "b9001838",
   "metadata": {},
   "outputs": [
    {
     "name": "stdout",
     "output_type": "stream",
     "text": [
      "{'_id': ObjectId('65829e27729f9d90a4d07502'), 'id': 1379560, 'week': 1, 'city_code': 647, 'region_code': 56, 'center_type': 'TYPE_C', 'op_area': 2, 'category': 'Beverages', 'cuisine': 'Thai', 'checkout_price': 136.83, 'base_price': 152.29, 'emailer_for_promotion': 0, 'homepage_featured': 0, 'num_orders': 177}\n"
     ]
    }
   ],
   "source": [
    "print(one_record)"
   ]
  },
  {
   "cell_type": "code",
   "execution_count": 9,
   "id": "69fb4aa5",
   "metadata": {},
   "outputs": [],
   "source": [
    "all_records=mycollection.find()\n"
   ]
  },
  {
   "cell_type": "code",
   "execution_count": 10,
   "id": "fe6d878c",
   "metadata": {},
   "outputs": [
    {
     "name": "stdout",
     "output_type": "stream",
     "text": [
      "<pymongo.cursor.Cursor object at 0x0000026587A6EB50>\n"
     ]
    }
   ],
   "source": [
    "print(all_records)"
   ]
  },
  {
   "cell_type": "code",
   "execution_count": 11,
   "id": "734df8b1",
   "metadata": {},
   "outputs": [
    {
     "name": "stdout",
     "output_type": "stream",
     "text": [
      "{'_id': ObjectId('65829e27729f9d90a4d07502'), 'id': 1379560, 'week': 1, 'city_code': 647, 'region_code': 56, 'center_type': 'TYPE_C', 'op_area': 2, 'category': 'Beverages', 'cuisine': 'Thai', 'checkout_price': 136.83, 'base_price': 152.29, 'emailer_for_promotion': 0, 'homepage_featured': 0, 'num_orders': 177}\n",
      "{'_id': ObjectId('65829e27729f9d90a4d07503'), 'id': 1466964, 'week': 1, 'city_code': 647, 'region_code': 56, 'center_type': 'TYPE_C', 'op_area': 2, 'category': 'Beverages', 'cuisine': 'Thai', 'checkout_price': 136.83, 'base_price': 135.83, 'emailer_for_promotion': 0, 'homepage_featured': 0, 'num_orders': 270}\n",
      "{'_id': ObjectId('65829e27729f9d90a4d07504'), 'id': 1346989, 'week': 1, 'city_code': 647, 'region_code': 56, 'center_type': 'TYPE_C', 'op_area': 2, 'category': 'Beverages', 'cuisine': 'Thai', 'checkout_price': 134.86, 'base_price': 135.86, 'emailer_for_promotion': 0, 'homepage_featured': 0, 'num_orders': 189}\n",
      "{'_id': ObjectId('65829e27729f9d90a4d07505'), 'id': 1338232, 'week': 1, 'city_code': 647, 'region_code': 56, 'center_type': 'TYPE_C', 'op_area': 2, 'category': 'Beverages', 'cuisine': 'Indian', 'checkout_price': 339.5, 'base_price': 437.53, 'emailer_for_promotion': 0, 'homepage_featured': 0, 'num_orders': 54}\n",
      "{'_id': ObjectId('65829e27729f9d90a4d07506'), 'id': 1448490, 'week': 1, 'city_code': 647, 'region_code': 56, 'center_type': 'TYPE_C', 'op_area': 2, 'category': 'Beverages', 'cuisine': 'Indian', 'checkout_price': 243.5, 'base_price': 242.5, 'emailer_for_promotion': 0, 'homepage_featured': 0, 'num_orders': 40}\n",
      "{'_id': ObjectId('65829e27729f9d90a4d07507'), 'id': 1270037, 'week': 1, 'city_code': 647, 'region_code': 56, 'center_type': 'TYPE_C', 'op_area': 2, 'category': 'Beverages', 'cuisine': 'Indian', 'checkout_price': 251.23, 'base_price': 252.23, 'emailer_for_promotion': 0, 'homepage_featured': 0, 'num_orders': 28}\n",
      "{'_id': ObjectId('65829e27729f9d90a4d07508'), 'id': 1191377, 'week': 1, 'city_code': 647, 'region_code': 56, 'center_type': 'TYPE_C', 'op_area': 2, 'category': 'Beverages', 'cuisine': 'Italian', 'checkout_price': 183.36, 'base_price': 184.36, 'emailer_for_promotion': 0, 'homepage_featured': 0, 'num_orders': 190}\n",
      "{'_id': ObjectId('65829e27729f9d90a4d07509'), 'id': 1499955, 'week': 1, 'city_code': 647, 'region_code': 56, 'center_type': 'TYPE_C', 'op_area': 2, 'category': 'Beverages', 'cuisine': 'Italian', 'checkout_price': 182.36, 'base_price': 183.36, 'emailer_for_promotion': 0, 'homepage_featured': 0, 'num_orders': 391}\n",
      "{'_id': ObjectId('65829e27729f9d90a4d0750a'), 'id': 1025244, 'week': 1, 'city_code': 647, 'region_code': 56, 'center_type': 'TYPE_C', 'op_area': 2, 'category': 'Beverages', 'cuisine': 'Italian', 'checkout_price': 193.06, 'base_price': 192.06, 'emailer_for_promotion': 0, 'homepage_featured': 0, 'num_orders': 472}\n",
      "{'_id': ObjectId('65829e27729f9d90a4d0750b'), 'id': 1054194, 'week': 1, 'city_code': 647, 'region_code': 56, 'center_type': 'TYPE_C', 'op_area': 2, 'category': 'Beverages', 'cuisine': 'Continental', 'checkout_price': 325.92, 'base_price': 384.18, 'emailer_for_promotion': 0, 'homepage_featured': 1, 'num_orders': 676}\n",
      "{'_id': ObjectId('65829e27729f9d90a4d0750c'), 'id': 1469367, 'week': 1, 'city_code': 647, 'region_code': 56, 'center_type': 'TYPE_C', 'op_area': 2, 'category': 'Beverages', 'cuisine': 'Continental', 'checkout_price': 323.01, 'base_price': 390, 'emailer_for_promotion': 0, 'homepage_featured': 1, 'num_orders': 823}\n",
      "{'_id': ObjectId('65829e27729f9d90a4d0750d'), 'id': 1029333, 'week': 1, 'city_code': 647, 'region_code': 56, 'center_type': 'TYPE_C', 'op_area': 2, 'category': 'Beverages', 'cuisine': 'Continental', 'checkout_price': 322.07, 'base_price': 388, 'emailer_for_promotion': 0, 'homepage_featured': 1, 'num_orders': 972}\n",
      "{'_id': ObjectId('65829e27729f9d90a4d0750e'), 'id': 1446016, 'week': 1, 'city_code': 647, 'region_code': 56, 'center_type': 'TYPE_C', 'op_area': 2, 'category': 'Rice Bowl', 'cuisine': 'Indian', 'checkout_price': 311.43, 'base_price': 310.43, 'emailer_for_promotion': 0, 'homepage_featured': 0, 'num_orders': 162}\n",
      "{'_id': ObjectId('65829e27729f9d90a4d0750f'), 'id': 1244647, 'week': 1, 'city_code': 647, 'region_code': 56, 'center_type': 'TYPE_C', 'op_area': 2, 'category': 'Rice Bowl', 'cuisine': 'Indian', 'checkout_price': 445.23, 'base_price': 446.23, 'emailer_for_promotion': 0, 'homepage_featured': 0, 'num_orders': 420}\n",
      "{'_id': ObjectId('65829e27729f9d90a4d07510'), 'id': 1378227, 'week': 1, 'city_code': 647, 'region_code': 56, 'center_type': 'TYPE_C', 'op_area': 2, 'category': 'Rice Bowl', 'cuisine': 'Indian', 'checkout_price': 264.84, 'base_price': 297.79, 'emailer_for_promotion': 1, 'homepage_featured': 0, 'num_orders': 756}\n",
      "{'_id': ObjectId('65829e27729f9d90a4d07511'), 'id': 1181556, 'week': 1, 'city_code': 647, 'region_code': 56, 'center_type': 'TYPE_C', 'op_area': 2, 'category': 'Starters', 'cuisine': 'Thai', 'checkout_price': 282.33, 'base_price': 281.33, 'emailer_for_promotion': 0, 'homepage_featured': 0, 'num_orders': 108}\n",
      "{'_id': ObjectId('65829e27729f9d90a4d07512'), 'id': 1313873, 'week': 1, 'city_code': 647, 'region_code': 56, 'center_type': 'TYPE_C', 'op_area': 2, 'category': 'Pasta', 'cuisine': 'Italian', 'checkout_price': 243.5, 'base_price': 340.53, 'emailer_for_promotion': 0, 'homepage_featured': 0, 'num_orders': 28}\n",
      "{'_id': ObjectId('65829e27729f9d90a4d07513'), 'id': 1067069, 'week': 1, 'city_code': 647, 'region_code': 56, 'center_type': 'TYPE_C', 'op_area': 2, 'category': 'Pasta', 'cuisine': 'Italian', 'checkout_price': 486, 'base_price': 485, 'emailer_for_promotion': 0, 'homepage_featured': 0, 'num_orders': 28}\n",
      "{'_id': ObjectId('65829e27729f9d90a4d07514'), 'id': 1058482, 'week': 1, 'city_code': 647, 'region_code': 56, 'center_type': 'TYPE_C', 'op_area': 2, 'category': 'Sandwich', 'cuisine': 'Italian', 'checkout_price': 306.58, 'base_price': 305.58, 'emailer_for_promotion': 0, 'homepage_featured': 0, 'num_orders': 188}\n",
      "{'_id': ObjectId('65829e27729f9d90a4d07515'), 'id': 1240935, 'week': 1, 'city_code': 647, 'region_code': 56, 'center_type': 'TYPE_C', 'op_area': 2, 'category': 'Sandwich', 'cuisine': 'Italian', 'checkout_price': 289.12, 'base_price': 289.12, 'emailer_for_promotion': 0, 'homepage_featured': 0, 'num_orders': 485}\n",
      "{'_id': ObjectId('65829e27729f9d90a4d07516'), 'id': 1044821, 'week': 1, 'city_code': 647, 'region_code': 56, 'center_type': 'TYPE_C', 'op_area': 2, 'category': 'Sandwich', 'cuisine': 'Italian', 'checkout_price': 259.99, 'base_price': 320.13, 'emailer_for_promotion': 1, 'homepage_featured': 1, 'num_orders': 798}\n",
      "{'_id': ObjectId('65829e27729f9d90a4d07517'), 'id': 1149039, 'week': 1, 'city_code': 647, 'region_code': 56, 'center_type': 'TYPE_C', 'op_area': 2, 'category': 'Biryani', 'cuisine': 'Indian', 'checkout_price': 388.03, 'base_price': 446.23, 'emailer_for_promotion': 0, 'homepage_featured': 0, 'num_orders': 14}\n",
      "{'_id': ObjectId('65829e27729f9d90a4d07518'), 'id': 1263416, 'week': 1, 'city_code': 647, 'region_code': 56, 'center_type': 'TYPE_C', 'op_area': 2, 'category': 'Extras', 'cuisine': 'Thai', 'checkout_price': 196.94, 'base_price': 320.13, 'emailer_for_promotion': 0, 'homepage_featured': 0, 'num_orders': 176}\n",
      "{'_id': ObjectId('65829e27729f9d90a4d07519'), 'id': 1323882, 'week': 1, 'city_code': 647, 'region_code': 56, 'center_type': 'TYPE_C', 'op_area': 2, 'category': 'Extras', 'cuisine': 'Thai', 'checkout_price': 117.4, 'base_price': 188.24, 'emailer_for_promotion': 0, 'homepage_featured': 0, 'num_orders': 150}\n",
      "{'_id': ObjectId('65829e27729f9d90a4d0751a'), 'id': 1338119, 'week': 1, 'city_code': 647, 'region_code': 56, 'center_type': 'TYPE_C', 'op_area': 2, 'category': 'Pizza', 'cuisine': 'Continental', 'checkout_price': 583.03, 'base_price': 610.13, 'emailer_for_promotion': 1, 'homepage_featured': 0, 'num_orders': 162}\n",
      "{'_id': ObjectId('65829e27729f9d90a4d0751b'), 'id': 1188372, 'week': 1, 'city_code': 647, 'region_code': 56, 'center_type': 'TYPE_C', 'op_area': 2, 'category': 'Pizza', 'cuisine': 'Continental', 'checkout_price': 583.03, 'base_price': 612.13, 'emailer_for_promotion': 1, 'homepage_featured': 0, 'num_orders': 312}\n",
      "{'_id': ObjectId('65829e27729f9d90a4d0751c'), 'id': 1440008, 'week': 1, 'city_code': 647, 'region_code': 56, 'center_type': 'TYPE_C', 'op_area': 2, 'category': 'Pizza', 'cuisine': 'Continental', 'checkout_price': 582.03, 'base_price': 612.13, 'emailer_for_promotion': 1, 'homepage_featured': 0, 'num_orders': 231}\n",
      "{'_id': ObjectId('65829e27729f9d90a4d0751d'), 'id': 1336534, 'week': 1, 'city_code': 647, 'region_code': 56, 'center_type': 'TYPE_C', 'op_area': 2, 'category': 'Seafood', 'cuisine': 'Continental', 'checkout_price': 628.62, 'base_price': 627.62, 'emailer_for_promotion': 0, 'homepage_featured': 0, 'num_orders': 13}\n",
      "{'_id': ObjectId('65829e27729f9d90a4d0751e'), 'id': 1242186, 'week': 1, 'city_code': 647, 'region_code': 56, 'center_type': 'TYPE_C', 'op_area': 2, 'category': 'Seafood', 'cuisine': 'Continental', 'checkout_price': 627.62, 'base_price': 626.62, 'emailer_for_promotion': 0, 'homepage_featured': 0, 'num_orders': 15}\n",
      "{'_id': ObjectId('65829e27729f9d90a4d0751f'), 'id': 1012819, 'week': 1, 'city_code': 647, 'region_code': 56, 'center_type': 'TYPE_C', 'op_area': 2, 'category': 'Seafood', 'cuisine': 'Continental', 'checkout_price': 628.62, 'base_price': 626.62, 'emailer_for_promotion': 0, 'homepage_featured': 0, 'num_orders': 13}\n",
      "{'_id': ObjectId('65829e27729f9d90a4d07520'), 'id': 1038567, 'week': 1, 'city_code': 647, 'region_code': 56, 'center_type': 'TYPE_C', 'op_area': 2, 'category': 'Other Snacks', 'cuisine': 'Thai', 'checkout_price': 243.5, 'base_price': 282.33, 'emailer_for_promotion': 0, 'homepage_featured': 0, 'num_orders': 15}\n",
      "{'_id': ObjectId('65829e27729f9d90a4d07521'), 'id': 1325272, 'week': 1, 'city_code': 647, 'region_code': 56, 'center_type': 'TYPE_C', 'op_area': 2, 'category': 'Other Snacks', 'cuisine': 'Thai', 'checkout_price': 243.5, 'base_price': 282.33, 'emailer_for_promotion': 0, 'homepage_featured': 0, 'num_orders': 13}\n",
      "{'_id': ObjectId('65829e27729f9d90a4d07522'), 'id': 1412058, 'week': 1, 'city_code': 647, 'region_code': 56, 'center_type': 'TYPE_C', 'op_area': 2, 'category': 'Desert', 'cuisine': 'Indian', 'checkout_price': 484.03, 'base_price': 484.03, 'emailer_for_promotion': 0, 'homepage_featured': 0, 'num_orders': 13}\n",
      "{'_id': ObjectId('65829e27729f9d90a4d07523'), 'id': 1040403, 'week': 1, 'city_code': 614, 'region_code': 85, 'center_type': 'TYPE_B', 'op_area': 3.6, 'category': 'Beverages', 'cuisine': 'Thai', 'checkout_price': 136.83, 'base_price': 136.83, 'emailer_for_promotion': 0, 'homepage_featured': 0, 'num_orders': 1498}\n",
      "{'_id': ObjectId('65829e27729f9d90a4d07524'), 'id': 1012104, 'week': 1, 'city_code': 614, 'region_code': 85, 'center_type': 'TYPE_B', 'op_area': 3.6, 'category': 'Beverages', 'cuisine': 'Thai', 'checkout_price': 134.83, 'base_price': 135.83, 'emailer_for_promotion': 0, 'homepage_featured': 1, 'num_orders': 1243}\n",
      "{'_id': ObjectId('65829e27729f9d90a4d07525'), 'id': 1277150, 'week': 1, 'city_code': 614, 'region_code': 85, 'center_type': 'TYPE_B', 'op_area': 3.6, 'category': 'Beverages', 'cuisine': 'Thai', 'checkout_price': 135.86, 'base_price': 135.86, 'emailer_for_promotion': 0, 'homepage_featured': 0, 'num_orders': 391}\n",
      "{'_id': ObjectId('65829e27729f9d90a4d07526'), 'id': 1323742, 'week': 1, 'city_code': 614, 'region_code': 85, 'center_type': 'TYPE_B', 'op_area': 3.6, 'category': 'Beverages', 'cuisine': 'Indian', 'checkout_price': 340.5, 'base_price': 435.53, 'emailer_for_promotion': 0, 'homepage_featured': 0, 'num_orders': 55}\n",
      "{'_id': ObjectId('65829e27729f9d90a4d07527'), 'id': 1417386, 'week': 1, 'city_code': 614, 'region_code': 85, 'center_type': 'TYPE_B', 'op_area': 3.6, 'category': 'Beverages', 'cuisine': 'Indian', 'checkout_price': 247.38, 'base_price': 248.38, 'emailer_for_promotion': 0, 'homepage_featured': 0, 'num_orders': 67}\n",
      "{'_id': ObjectId('65829e27729f9d90a4d07528'), 'id': 1367249, 'week': 1, 'city_code': 614, 'region_code': 85, 'center_type': 'TYPE_B', 'op_area': 3.6, 'category': 'Beverages', 'cuisine': 'Indian', 'checkout_price': 247.35, 'base_price': 248.35, 'emailer_for_promotion': 0, 'homepage_featured': 0, 'num_orders': 81}\n",
      "{'_id': ObjectId('65829e27729f9d90a4d07529'), 'id': 1168714, 'week': 1, 'city_code': 614, 'region_code': 85, 'center_type': 'TYPE_B', 'op_area': 3.6, 'category': 'Beverages', 'cuisine': 'Italian', 'checkout_price': 177.51, 'base_price': 179.51, 'emailer_for_promotion': 0, 'homepage_featured': 0, 'num_orders': 377}\n",
      "{'_id': ObjectId('65829e27729f9d90a4d0752a'), 'id': 1351400, 'week': 1, 'city_code': 614, 'region_code': 85, 'center_type': 'TYPE_B', 'op_area': 3.6, 'category': 'Beverages', 'cuisine': 'Italian', 'checkout_price': 184.36, 'base_price': 182.36, 'emailer_for_promotion': 0, 'homepage_featured': 0, 'num_orders': 514}\n",
      "{'_id': ObjectId('65829e27729f9d90a4d0752b'), 'id': 1496539, 'week': 1, 'city_code': 614, 'region_code': 85, 'center_type': 'TYPE_B', 'op_area': 3.6, 'category': 'Beverages', 'cuisine': 'Italian', 'checkout_price': 190.18, 'base_price': 188.18, 'emailer_for_promotion': 0, 'homepage_featured': 0, 'num_orders': 1176}\n",
      "{'_id': ObjectId('65829e27729f9d90a4d0752c'), 'id': 1372248, 'week': 1, 'city_code': 614, 'region_code': 85, 'center_type': 'TYPE_B', 'op_area': 3.6, 'category': 'Beverages', 'cuisine': 'Continental', 'checkout_price': 319.19, 'base_price': 380.27, 'emailer_for_promotion': 0, 'homepage_featured': 0, 'num_orders': 256}\n",
      "{'_id': ObjectId('65829e27729f9d90a4d0752d'), 'id': 1292501, 'week': 1, 'city_code': 614, 'region_code': 85, 'center_type': 'TYPE_B', 'op_area': 3.6, 'category': 'Beverages', 'cuisine': 'Continental', 'checkout_price': 336.65, 'base_price': 390, 'emailer_for_promotion': 0, 'homepage_featured': 0, 'num_orders': 243}\n",
      "{'_id': ObjectId('65829e27729f9d90a4d0752e'), 'id': 1346854, 'week': 1, 'city_code': 614, 'region_code': 85, 'center_type': 'TYPE_B', 'op_area': 3.6, 'category': 'Beverages', 'cuisine': 'Continental', 'checkout_price': 322.07, 'base_price': 387.09, 'emailer_for_promotion': 0, 'homepage_featured': 0, 'num_orders': 324}\n",
      "{'_id': ObjectId('65829e27729f9d90a4d0752f'), 'id': 1291642, 'week': 1, 'city_code': 614, 'region_code': 85, 'center_type': 'TYPE_B', 'op_area': 3.6, 'category': 'Rice Bowl', 'cuisine': 'Indian', 'checkout_price': 298.82, 'base_price': 296.82, 'emailer_for_promotion': 0, 'homepage_featured': 0, 'num_orders': 998}\n",
      "{'_id': ObjectId('65829e27729f9d90a4d07530'), 'id': 1226536, 'week': 1, 'city_code': 614, 'region_code': 85, 'center_type': 'TYPE_B', 'op_area': 3.6, 'category': 'Rice Bowl', 'cuisine': 'Indian', 'checkout_price': 412.28, 'base_price': 411.28, 'emailer_for_promotion': 0, 'homepage_featured': 0, 'num_orders': 702}\n",
      "{'_id': ObjectId('65829e27729f9d90a4d07531'), 'id': 1165348, 'week': 1, 'city_code': 614, 'region_code': 85, 'center_type': 'TYPE_B', 'op_area': 3.6, 'category': 'Rice Bowl', 'cuisine': 'Indian', 'checkout_price': 243.47, 'base_price': 273.54, 'emailer_for_promotion': 1, 'homepage_featured': 0, 'num_orders': 877}\n",
      "{'_id': ObjectId('65829e27729f9d90a4d07532'), 'id': 1079470, 'week': 1, 'city_code': 614, 'region_code': 85, 'center_type': 'TYPE_B', 'op_area': 3.6, 'category': 'Starters', 'cuisine': 'Thai', 'checkout_price': 280.33, 'base_price': 281.33, 'emailer_for_promotion': 0, 'homepage_featured': 0, 'num_orders': 134}\n",
      "{'_id': ObjectId('65829e27729f9d90a4d07533'), 'id': 1192984, 'week': 1, 'city_code': 614, 'region_code': 85, 'center_type': 'TYPE_B', 'op_area': 3.6, 'category': 'Starters', 'cuisine': 'Thai', 'checkout_price': 282.33, 'base_price': 281.33, 'emailer_for_promotion': 0, 'homepage_featured': 0, 'num_orders': 285}\n",
      "{'_id': ObjectId('65829e27729f9d90a4d07534'), 'id': 1386769, 'week': 1, 'city_code': 614, 'region_code': 85, 'center_type': 'TYPE_B', 'op_area': 3.6, 'category': 'Starters', 'cuisine': 'Thai', 'checkout_price': 281.33, 'base_price': 280.33, 'emailer_for_promotion': 0, 'homepage_featured': 0, 'num_orders': 95}\n",
      "{'_id': ObjectId('65829e27729f9d90a4d07535'), 'id': 1336850, 'week': 1, 'city_code': 614, 'region_code': 85, 'center_type': 'TYPE_B', 'op_area': 3.6, 'category': 'Pasta', 'cuisine': 'Italian', 'checkout_price': 242.5, 'base_price': 338.53, 'emailer_for_promotion': 0, 'homepage_featured': 0, 'num_orders': 82}\n",
      "{'_id': ObjectId('65829e27729f9d90a4d07536'), 'id': 1211094, 'week': 1, 'city_code': 614, 'region_code': 85, 'center_type': 'TYPE_B', 'op_area': 3.6, 'category': 'Pasta', 'cuisine': 'Italian', 'checkout_price': 454.93, 'base_price': 455.93, 'emailer_for_promotion': 0, 'homepage_featured': 0, 'num_orders': 42}\n",
      "{'_id': ObjectId('65829e27729f9d90a4d07537'), 'id': 1022907, 'week': 1, 'city_code': 614, 'region_code': 85, 'center_type': 'TYPE_B', 'op_area': 3.6, 'category': 'Pasta', 'cuisine': 'Italian', 'checkout_price': 485, 'base_price': 486, 'emailer_for_promotion': 0, 'homepage_featured': 0, 'num_orders': 54}\n",
      "{'_id': ObjectId('65829e27729f9d90a4d07538'), 'id': 1276642, 'week': 1, 'city_code': 614, 'region_code': 85, 'center_type': 'TYPE_B', 'op_area': 3.6, 'category': 'Sandwich', 'cuisine': 'Italian', 'checkout_price': 301.73, 'base_price': 301.73, 'emailer_for_promotion': 0, 'homepage_featured': 0, 'num_orders': 744}\n",
      "{'_id': ObjectId('65829e27729f9d90a4d07539'), 'id': 1290603, 'week': 1, 'city_code': 614, 'region_code': 85, 'center_type': 'TYPE_B', 'op_area': 3.6, 'category': 'Sandwich', 'cuisine': 'Italian', 'checkout_price': 278.42, 'base_price': 278.42, 'emailer_for_promotion': 0, 'homepage_featured': 0, 'num_orders': 393}\n",
      "{'_id': ObjectId('65829e27729f9d90a4d0753a'), 'id': 1457468, 'week': 1, 'city_code': 614, 'region_code': 85, 'center_type': 'TYPE_B', 'op_area': 3.6, 'category': 'Sandwich', 'cuisine': 'Italian', 'checkout_price': 259.05, 'base_price': 291.03, 'emailer_for_promotion': 1, 'homepage_featured': 1, 'num_orders': 554}\n",
      "{'_id': ObjectId('65829e27729f9d90a4d0753b'), 'id': 1352863, 'week': 1, 'city_code': 614, 'region_code': 85, 'center_type': 'TYPE_B', 'op_area': 3.6, 'category': 'Biryani', 'cuisine': 'Indian', 'checkout_price': 389.03, 'base_price': 447.23, 'emailer_for_promotion': 0, 'homepage_featured': 0, 'num_orders': 27}\n",
      "{'_id': ObjectId('65829e27729f9d90a4d0753c'), 'id': 1488172, 'week': 1, 'city_code': 614, 'region_code': 85, 'center_type': 'TYPE_B', 'op_area': 3.6, 'category': 'Biryani', 'cuisine': 'Indian', 'checkout_price': 387.03, 'base_price': 446.23, 'emailer_for_promotion': 0, 'homepage_featured': 0, 'num_orders': 28}\n",
      "{'_id': ObjectId('65829e27729f9d90a4d0753d'), 'id': 1107611, 'week': 1, 'city_code': 614, 'region_code': 85, 'center_type': 'TYPE_B', 'op_area': 3.6, 'category': 'Biryani', 'cuisine': 'Indian', 'checkout_price': 340.53, 'base_price': 486.03, 'emailer_for_promotion': 0, 'homepage_featured': 0, 'num_orders': 54}\n",
      "{'_id': ObjectId('65829e27729f9d90a4d0753e'), 'id': 1298505, 'week': 1, 'city_code': 614, 'region_code': 85, 'center_type': 'TYPE_B', 'op_area': 3.6, 'category': 'Extras', 'cuisine': 'Thai', 'checkout_price': 147.5, 'base_price': 191.09, 'emailer_for_promotion': 0, 'homepage_featured': 0, 'num_orders': 148}\n",
      "{'_id': ObjectId('65829e27729f9d90a4d0753f'), 'id': 1036135, 'week': 1, 'city_code': 614, 'region_code': 85, 'center_type': 'TYPE_B', 'op_area': 3.6, 'category': 'Extras', 'cuisine': 'Thai', 'checkout_price': 156.23, 'base_price': 196, 'emailer_for_promotion': 0, 'homepage_featured': 0, 'num_orders': 393}\n",
      "{'_id': ObjectId('65829e27729f9d90a4d07540'), 'id': 1215208, 'week': 1, 'city_code': 614, 'region_code': 85, 'center_type': 'TYPE_B', 'op_area': 3.6, 'category': 'Extras', 'cuisine': 'Thai', 'checkout_price': 166.87, 'base_price': 188.18, 'emailer_for_promotion': 0, 'homepage_featured': 0, 'num_orders': 364}\n",
      "{'_id': ObjectId('65829e27729f9d90a4d07541'), 'id': 1331930, 'week': 1, 'city_code': 614, 'region_code': 85, 'center_type': 'TYPE_B', 'op_area': 3.6, 'category': 'Soup', 'cuisine': 'Thai', 'checkout_price': 245.44, 'base_price': 245.44, 'emailer_for_promotion': 0, 'homepage_featured': 0, 'num_orders': 176}\n",
      "{'_id': ObjectId('65829e27729f9d90a4d07542'), 'id': 1441421, 'week': 1, 'city_code': 614, 'region_code': 85, 'center_type': 'TYPE_B', 'op_area': 3.6, 'category': 'Soup', 'cuisine': 'Thai', 'checkout_price': 244.5, 'base_price': 272.63, 'emailer_for_promotion': 0, 'homepage_featured': 0, 'num_orders': 109}\n",
      "{'_id': ObjectId('65829e27729f9d90a4d07543'), 'id': 1333208, 'week': 1, 'city_code': 614, 'region_code': 85, 'center_type': 'TYPE_B', 'op_area': 3.6, 'category': 'Soup', 'cuisine': 'Thai', 'checkout_price': 243.5, 'base_price': 271.63, 'emailer_for_promotion': 0, 'homepage_featured': 0, 'num_orders': 96}\n",
      "{'_id': ObjectId('65829e27729f9d90a4d07544'), 'id': 1490163, 'week': 1, 'city_code': 614, 'region_code': 85, 'center_type': 'TYPE_B', 'op_area': 3.6, 'category': 'Pizza', 'cuisine': 'Continental', 'checkout_price': 582.03, 'base_price': 624.74, 'emailer_for_promotion': 1, 'homepage_featured': 0, 'num_orders': 215}\n",
      "{'_id': ObjectId('65829e27729f9d90a4d07545'), 'id': 1004790, 'week': 1, 'city_code': 614, 'region_code': 85, 'center_type': 'TYPE_B', 'op_area': 3.6, 'category': 'Pizza', 'cuisine': 'Continental', 'checkout_price': 582.03, 'base_price': 617.89, 'emailer_for_promotion': 1, 'homepage_featured': 0, 'num_orders': 419}\n",
      "{'_id': ObjectId('65829e27729f9d90a4d07546'), 'id': 1286681, 'week': 1, 'city_code': 614, 'region_code': 85, 'center_type': 'TYPE_B', 'op_area': 3.6, 'category': 'Pizza', 'cuisine': 'Continental', 'checkout_price': 588.85, 'base_price': 610.13, 'emailer_for_promotion': 1, 'homepage_featured': 1, 'num_orders': 634}\n",
      "{'_id': ObjectId('65829e27729f9d90a4d07547'), 'id': 1385562, 'week': 1, 'city_code': 614, 'region_code': 85, 'center_type': 'TYPE_B', 'op_area': 3.6, 'category': 'Seafood', 'cuisine': 'Continental', 'checkout_price': 628.62, 'base_price': 627.62, 'emailer_for_promotion': 0, 'homepage_featured': 0, 'num_orders': 27}\n",
      "{'_id': ObjectId('65829e27729f9d90a4d07548'), 'id': 1183203, 'week': 1, 'city_code': 614, 'region_code': 85, 'center_type': 'TYPE_B', 'op_area': 3.6, 'category': 'Seafood', 'cuisine': 'Continental', 'checkout_price': 626.62, 'base_price': 627.62, 'emailer_for_promotion': 0, 'homepage_featured': 0, 'num_orders': 27}\n",
      "{'_id': ObjectId('65829e27729f9d90a4d07549'), 'id': 1109344, 'week': 1, 'city_code': 614, 'region_code': 85, 'center_type': 'TYPE_B', 'op_area': 3.6, 'category': 'Other Snacks', 'cuisine': 'Thai', 'checkout_price': 242.53, 'base_price': 243.53, 'emailer_for_promotion': 0, 'homepage_featured': 0, 'num_orders': 122}\n",
      "{'_id': ObjectId('65829e27729f9d90a4d0754a'), 'id': 1166775, 'week': 1, 'city_code': 614, 'region_code': 85, 'center_type': 'TYPE_B', 'op_area': 3.6, 'category': 'Other Snacks', 'cuisine': 'Thai', 'checkout_price': 244.5, 'base_price': 281.33, 'emailer_for_promotion': 0, 'homepage_featured': 0, 'num_orders': 487}\n",
      "{'_id': ObjectId('65829e27729f9d90a4d0754b'), 'id': 1382473, 'week': 1, 'city_code': 614, 'region_code': 85, 'center_type': 'TYPE_B', 'op_area': 3.6, 'category': 'Other Snacks', 'cuisine': 'Thai', 'checkout_price': 244.5, 'base_price': 280.33, 'emailer_for_promotion': 0, 'homepage_featured': 0, 'num_orders': 243}\n",
      "{'_id': ObjectId('65829e27729f9d90a4d0754c'), 'id': 1051179, 'week': 1, 'city_code': 614, 'region_code': 85, 'center_type': 'TYPE_B', 'op_area': 3.6, 'category': 'Desert', 'cuisine': 'Indian', 'checkout_price': 387.03, 'base_price': 388.03, 'emailer_for_promotion': 0, 'homepage_featured': 0, 'num_orders': 81}\n",
      "{'_id': ObjectId('65829e27729f9d90a4d0754d'), 'id': 1220763, 'week': 1, 'city_code': 614, 'region_code': 85, 'center_type': 'TYPE_B', 'op_area': 3.6, 'category': 'Desert', 'cuisine': 'Indian', 'checkout_price': 484.03, 'base_price': 484.03, 'emailer_for_promotion': 0, 'homepage_featured': 0, 'num_orders': 107}\n",
      "{'_id': ObjectId('65829e27729f9d90a4d0754e'), 'id': 1488442, 'week': 1, 'city_code': 614, 'region_code': 85, 'center_type': 'TYPE_B', 'op_area': 3.6, 'category': 'Desert', 'cuisine': 'Indian', 'checkout_price': 486.03, 'base_price': 486.03, 'emailer_for_promotion': 0, 'homepage_featured': 0, 'num_orders': 203}\n",
      "{'_id': ObjectId('65829e27729f9d90a4d0754f'), 'id': 1103215, 'week': 1, 'city_code': 679, 'region_code': 56, 'center_type': 'TYPE_A', 'op_area': 3.7, 'category': 'Beverages', 'cuisine': 'Thai', 'checkout_price': 136.83, 'base_price': 136.83, 'emailer_for_promotion': 0, 'homepage_featured': 0, 'num_orders': 959}\n",
      "{'_id': ObjectId('65829e27729f9d90a4d07550'), 'id': 1093939, 'week': 1, 'city_code': 679, 'region_code': 56, 'center_type': 'TYPE_A', 'op_area': 3.7, 'category': 'Beverages', 'cuisine': 'Thai', 'checkout_price': 133.89, 'base_price': 133.89, 'emailer_for_promotion': 0, 'homepage_featured': 0, 'num_orders': 1052}\n",
      "{'_id': ObjectId('65829e27729f9d90a4d07551'), 'id': 1120771, 'week': 1, 'city_code': 679, 'region_code': 56, 'center_type': 'TYPE_A', 'op_area': 3.7, 'category': 'Beverages', 'cuisine': 'Thai', 'checkout_price': 133.86, 'base_price': 135.86, 'emailer_for_promotion': 0, 'homepage_featured': 0, 'num_orders': 379}\n",
      "{'_id': ObjectId('65829e27729f9d90a4d07552'), 'id': 1472938, 'week': 1, 'city_code': 679, 'region_code': 56, 'center_type': 'TYPE_A', 'op_area': 3.7, 'category': 'Beverages', 'cuisine': 'Indian', 'checkout_price': 339.5, 'base_price': 436.53, 'emailer_for_promotion': 0, 'homepage_featured': 0, 'num_orders': 54}\n",
      "{'_id': ObjectId('65829e27729f9d90a4d07553'), 'id': 1136817, 'week': 1, 'city_code': 679, 'region_code': 56, 'center_type': 'TYPE_A', 'op_area': 3.7, 'category': 'Beverages', 'cuisine': 'Indian', 'checkout_price': 251.23, 'base_price': 251.23, 'emailer_for_promotion': 0, 'homepage_featured': 0, 'num_orders': 80}\n",
      "{'_id': ObjectId('65829e27729f9d90a4d07554'), 'id': 1425970, 'week': 1, 'city_code': 679, 'region_code': 56, 'center_type': 'TYPE_A', 'op_area': 3.7, 'category': 'Beverages', 'cuisine': 'Indian', 'checkout_price': 253.23, 'base_price': 253.23, 'emailer_for_promotion': 0, 'homepage_featured': 0, 'num_orders': 27}\n",
      "{'_id': ObjectId('65829e27729f9d90a4d07555'), 'id': 1053516, 'week': 1, 'city_code': 679, 'region_code': 56, 'center_type': 'TYPE_A', 'op_area': 3.7, 'category': 'Beverages', 'cuisine': 'Italian', 'checkout_price': 183.39, 'base_price': 181.39, 'emailer_for_promotion': 0, 'homepage_featured': 0, 'num_orders': 620}\n",
      "{'_id': ObjectId('65829e27729f9d90a4d07556'), 'id': 1057835, 'week': 1, 'city_code': 679, 'region_code': 56, 'center_type': 'TYPE_A', 'op_area': 3.7, 'category': 'Beverages', 'cuisine': 'Italian', 'checkout_price': 184.36, 'base_price': 182.36, 'emailer_for_promotion': 0, 'homepage_featured': 0, 'num_orders': 798}\n",
      "{'_id': ObjectId('65829e27729f9d90a4d07557'), 'id': 1309667, 'week': 1, 'city_code': 679, 'region_code': 56, 'center_type': 'TYPE_A', 'op_area': 3.7, 'category': 'Beverages', 'cuisine': 'Italian', 'checkout_price': 190.12, 'base_price': 192.12, 'emailer_for_promotion': 0, 'homepage_featured': 0, 'num_orders': 1594}\n",
      "{'_id': ObjectId('65829e27729f9d90a4d07558'), 'id': 1277077, 'week': 1, 'city_code': 679, 'region_code': 56, 'center_type': 'TYPE_A', 'op_area': 3.7, 'category': 'Beverages', 'cuisine': 'Continental', 'checkout_price': 315.25, 'base_price': 353.08, 'emailer_for_promotion': 0, 'homepage_featured': 1, 'num_orders': 446}\n",
      "{'_id': ObjectId('65829e27729f9d90a4d07559'), 'id': 1039023, 'week': 1, 'city_code': 679, 'region_code': 56, 'center_type': 'TYPE_A', 'op_area': 3.7, 'category': 'Beverages', 'cuisine': 'Continental', 'checkout_price': 325.98, 'base_price': 380.3, 'emailer_for_promotion': 0, 'homepage_featured': 0, 'num_orders': 391}\n",
      "{'_id': ObjectId('65829e27729f9d90a4d0755a'), 'id': 1483315, 'week': 1, 'city_code': 679, 'region_code': 56, 'center_type': 'TYPE_A', 'op_area': 3.7, 'category': 'Beverages', 'cuisine': 'Continental', 'checkout_price': 324.04, 'base_price': 383.21, 'emailer_for_promotion': 0, 'homepage_featured': 0, 'num_orders': 513}\n",
      "{'_id': ObjectId('65829e27729f9d90a4d0755b'), 'id': 1474933, 'week': 1, 'city_code': 679, 'region_code': 56, 'center_type': 'TYPE_A', 'op_area': 3.7, 'category': 'Rice Bowl', 'cuisine': 'Indian', 'checkout_price': 292.97, 'base_price': 293.97, 'emailer_for_promotion': 0, 'homepage_featured': 0, 'num_orders': 703}\n",
      "{'_id': ObjectId('65829e27729f9d90a4d0755c'), 'id': 1305533, 'week': 1, 'city_code': 679, 'region_code': 56, 'center_type': 'TYPE_A', 'op_area': 3.7, 'category': 'Rice Bowl', 'cuisine': 'Indian', 'checkout_price': 364.78, 'base_price': 403.52, 'emailer_for_promotion': 0, 'homepage_featured': 0, 'num_orders': 879}\n",
      "{'_id': ObjectId('65829e27729f9d90a4d0755d'), 'id': 1426280, 'week': 1, 'city_code': 679, 'region_code': 56, 'center_type': 'TYPE_A', 'op_area': 3.7, 'category': 'Rice Bowl', 'cuisine': 'Indian', 'checkout_price': 237.68, 'base_price': 262.9, 'emailer_for_promotion': 1, 'homepage_featured': 0, 'num_orders': 1984}\n",
      "{'_id': ObjectId('65829e27729f9d90a4d0755e'), 'id': 1114533, 'week': 1, 'city_code': 679, 'region_code': 56, 'center_type': 'TYPE_A', 'op_area': 3.7, 'category': 'Starters', 'cuisine': 'Thai', 'checkout_price': 281.33, 'base_price': 281.33, 'emailer_for_promotion': 0, 'homepage_featured': 0, 'num_orders': 202}\n",
      "{'_id': ObjectId('65829e27729f9d90a4d0755f'), 'id': 1192269, 'week': 1, 'city_code': 679, 'region_code': 56, 'center_type': 'TYPE_A', 'op_area': 3.7, 'category': 'Starters', 'cuisine': 'Thai', 'checkout_price': 280.33, 'base_price': 282.33, 'emailer_for_promotion': 0, 'homepage_featured': 0, 'num_orders': 271}\n",
      "{'_id': ObjectId('65829e27729f9d90a4d07560'), 'id': 1351149, 'week': 1, 'city_code': 679, 'region_code': 56, 'center_type': 'TYPE_A', 'op_area': 3.7, 'category': 'Starters', 'cuisine': 'Thai', 'checkout_price': 281.33, 'base_price': 282.33, 'emailer_for_promotion': 0, 'homepage_featured': 0, 'num_orders': 68}\n",
      "{'_id': ObjectId('65829e27729f9d90a4d07561'), 'id': 1039383, 'week': 1, 'city_code': 679, 'region_code': 56, 'center_type': 'TYPE_A', 'op_area': 3.7, 'category': 'Pasta', 'cuisine': 'Italian', 'checkout_price': 243.5, 'base_price': 338.53, 'emailer_for_promotion': 0, 'homepage_featured': 0, 'num_orders': 258}\n",
      "{'_id': ObjectId('65829e27729f9d90a4d07562'), 'id': 1435407, 'week': 1, 'city_code': 679, 'region_code': 56, 'center_type': 'TYPE_A', 'op_area': 3.7, 'category': 'Pasta', 'cuisine': 'Italian', 'checkout_price': 456.93, 'base_price': 456.93, 'emailer_for_promotion': 0, 'homepage_featured': 1, 'num_orders': 13}\n",
      "{'_id': ObjectId('65829e27729f9d90a4d07563'), 'id': 1199821, 'week': 1, 'city_code': 679, 'region_code': 56, 'center_type': 'TYPE_A', 'op_area': 3.7, 'category': 'Sandwich', 'cuisine': 'Italian', 'checkout_price': 338.53, 'base_price': 338.53, 'emailer_for_promotion': 0, 'homepage_featured': 0, 'num_orders': 458}\n",
      "{'_id': ObjectId('65829e27729f9d90a4d07564'), 'id': 1157042, 'week': 1, 'city_code': 679, 'region_code': 56, 'center_type': 'TYPE_A', 'op_area': 3.7, 'category': 'Sandwich', 'cuisine': 'Italian', 'checkout_price': 273.54, 'base_price': 275.54, 'emailer_for_promotion': 0, 'homepage_featured': 0, 'num_orders': 729}\n",
      "{'_id': ObjectId('65829e27729f9d90a4d07565'), 'id': 1200664, 'week': 1, 'city_code': 679, 'region_code': 56, 'center_type': 'TYPE_A', 'op_area': 3.7, 'category': 'Sandwich', 'cuisine': 'Italian', 'checkout_price': 259.99, 'base_price': 327.86, 'emailer_for_promotion': 1, 'homepage_featured': 0, 'num_orders': 528}\n",
      "{'_id': ObjectId('65829e27729f9d90a4d07566'), 'id': 1380543, 'week': 1, 'city_code': 679, 'region_code': 56, 'center_type': 'TYPE_A', 'op_area': 3.7, 'category': 'Biryani', 'cuisine': 'Indian', 'checkout_price': 387.03, 'base_price': 447.23, 'emailer_for_promotion': 0, 'homepage_featured': 0, 'num_orders': 54}\n"
     ]
    },
    {
     "name": "stderr",
     "output_type": "stream",
     "text": [
      "IOPub data rate exceeded.\n",
      "The notebook server will temporarily stop sending output\n",
      "to the client in order to avoid crashing it.\n",
      "To change this limit, set the config variable\n",
      "`--NotebookApp.iopub_data_rate_limit`.\n",
      "\n",
      "Current values:\n",
      "NotebookApp.iopub_data_rate_limit=1000000.0 (bytes/sec)\n",
      "NotebookApp.rate_limit_window=3.0 (secs)\n",
      "\n"
     ]
    }
   ],
   "source": [
    "for row in all_records:\n",
    "    print(row)"
   ]
  },
  {
   "cell_type": "code",
   "execution_count": 12,
   "id": "b3ca4c16",
   "metadata": {},
   "outputs": [],
   "source": [
    "all_records=mycollection.find()\n"
   ]
  },
  {
   "cell_type": "code",
   "execution_count": 13,
   "id": "9b682237",
   "metadata": {},
   "outputs": [
    {
     "name": "stdout",
     "output_type": "stream",
     "text": [
      "<pymongo.cursor.Cursor object at 0x000002658BF089D0>\n"
     ]
    }
   ],
   "source": [
    "print(all_records)\n"
   ]
  },
  {
   "cell_type": "code",
   "execution_count": 14,
   "id": "15484f6a",
   "metadata": {},
   "outputs": [],
   "source": [
    "list_cursor = list(all_records)"
   ]
  },
  {
   "cell_type": "code",
   "execution_count": 15,
   "id": "0ebd8ef7",
   "metadata": {},
   "outputs": [
    {
     "name": "stderr",
     "output_type": "stream",
     "text": [
      "IOPub data rate exceeded.\n",
      "The notebook server will temporarily stop sending output\n",
      "to the client in order to avoid crashing it.\n",
      "To change this limit, set the config variable\n",
      "`--NotebookApp.iopub_data_rate_limit`.\n",
      "\n",
      "Current values:\n",
      "NotebookApp.iopub_data_rate_limit=1000000.0 (bytes/sec)\n",
      "NotebookApp.rate_limit_window=3.0 (secs)\n",
      "\n"
     ]
    }
   ],
   "source": [
    "print(list_cursor)"
   ]
  },
  {
   "cell_type": "code",
   "execution_count": 16,
   "id": "889d61c5",
   "metadata": {},
   "outputs": [],
   "source": [
    "df=pd.DataFrame(list_cursor)"
   ]
  },
  {
   "cell_type": "code",
   "execution_count": 17,
   "id": "52343cfa",
   "metadata": {},
   "outputs": [
    {
     "data": {
      "text/html": [
       "<div>\n",
       "<style scoped>\n",
       "    .dataframe tbody tr th:only-of-type {\n",
       "        vertical-align: middle;\n",
       "    }\n",
       "\n",
       "    .dataframe tbody tr th {\n",
       "        vertical-align: top;\n",
       "    }\n",
       "\n",
       "    .dataframe thead th {\n",
       "        text-align: right;\n",
       "    }\n",
       "</style>\n",
       "<table border=\"1\" class=\"dataframe\">\n",
       "  <thead>\n",
       "    <tr style=\"text-align: right;\">\n",
       "      <th></th>\n",
       "      <th>_id</th>\n",
       "      <th>id</th>\n",
       "      <th>week</th>\n",
       "      <th>city_code</th>\n",
       "      <th>region_code</th>\n",
       "      <th>center_type</th>\n",
       "      <th>op_area</th>\n",
       "      <th>category</th>\n",
       "      <th>cuisine</th>\n",
       "      <th>checkout_price</th>\n",
       "      <th>base_price</th>\n",
       "      <th>emailer_for_promotion</th>\n",
       "      <th>homepage_featured</th>\n",
       "      <th>num_orders</th>\n",
       "    </tr>\n",
       "  </thead>\n",
       "  <tbody>\n",
       "    <tr>\n",
       "      <th>0</th>\n",
       "      <td>65829e27729f9d90a4d07502</td>\n",
       "      <td>1379560</td>\n",
       "      <td>1</td>\n",
       "      <td>647</td>\n",
       "      <td>56</td>\n",
       "      <td>TYPE_C</td>\n",
       "      <td>2.0</td>\n",
       "      <td>Beverages</td>\n",
       "      <td>Thai</td>\n",
       "      <td>136.83</td>\n",
       "      <td>152.29</td>\n",
       "      <td>0</td>\n",
       "      <td>0</td>\n",
       "      <td>177</td>\n",
       "    </tr>\n",
       "    <tr>\n",
       "      <th>1</th>\n",
       "      <td>65829e27729f9d90a4d07503</td>\n",
       "      <td>1466964</td>\n",
       "      <td>1</td>\n",
       "      <td>647</td>\n",
       "      <td>56</td>\n",
       "      <td>TYPE_C</td>\n",
       "      <td>2.0</td>\n",
       "      <td>Beverages</td>\n",
       "      <td>Thai</td>\n",
       "      <td>136.83</td>\n",
       "      <td>135.83</td>\n",
       "      <td>0</td>\n",
       "      <td>0</td>\n",
       "      <td>270</td>\n",
       "    </tr>\n",
       "    <tr>\n",
       "      <th>2</th>\n",
       "      <td>65829e27729f9d90a4d07504</td>\n",
       "      <td>1346989</td>\n",
       "      <td>1</td>\n",
       "      <td>647</td>\n",
       "      <td>56</td>\n",
       "      <td>TYPE_C</td>\n",
       "      <td>2.0</td>\n",
       "      <td>Beverages</td>\n",
       "      <td>Thai</td>\n",
       "      <td>134.86</td>\n",
       "      <td>135.86</td>\n",
       "      <td>0</td>\n",
       "      <td>0</td>\n",
       "      <td>189</td>\n",
       "    </tr>\n",
       "    <tr>\n",
       "      <th>3</th>\n",
       "      <td>65829e27729f9d90a4d07505</td>\n",
       "      <td>1338232</td>\n",
       "      <td>1</td>\n",
       "      <td>647</td>\n",
       "      <td>56</td>\n",
       "      <td>TYPE_C</td>\n",
       "      <td>2.0</td>\n",
       "      <td>Beverages</td>\n",
       "      <td>Indian</td>\n",
       "      <td>339.50</td>\n",
       "      <td>437.53</td>\n",
       "      <td>0</td>\n",
       "      <td>0</td>\n",
       "      <td>54</td>\n",
       "    </tr>\n",
       "    <tr>\n",
       "      <th>4</th>\n",
       "      <td>65829e27729f9d90a4d07506</td>\n",
       "      <td>1448490</td>\n",
       "      <td>1</td>\n",
       "      <td>647</td>\n",
       "      <td>56</td>\n",
       "      <td>TYPE_C</td>\n",
       "      <td>2.0</td>\n",
       "      <td>Beverages</td>\n",
       "      <td>Indian</td>\n",
       "      <td>243.50</td>\n",
       "      <td>242.50</td>\n",
       "      <td>0</td>\n",
       "      <td>0</td>\n",
       "      <td>40</td>\n",
       "    </tr>\n",
       "  </tbody>\n",
       "</table>\n",
       "</div>"
      ],
      "text/plain": [
       "                        _id       id  week  city_code  region_code  \\\n",
       "0  65829e27729f9d90a4d07502  1379560     1        647           56   \n",
       "1  65829e27729f9d90a4d07503  1466964     1        647           56   \n",
       "2  65829e27729f9d90a4d07504  1346989     1        647           56   \n",
       "3  65829e27729f9d90a4d07505  1338232     1        647           56   \n",
       "4  65829e27729f9d90a4d07506  1448490     1        647           56   \n",
       "\n",
       "  center_type  op_area   category cuisine  checkout_price  base_price  \\\n",
       "0      TYPE_C      2.0  Beverages    Thai          136.83      152.29   \n",
       "1      TYPE_C      2.0  Beverages    Thai          136.83      135.83   \n",
       "2      TYPE_C      2.0  Beverages    Thai          134.86      135.86   \n",
       "3      TYPE_C      2.0  Beverages  Indian          339.50      437.53   \n",
       "4      TYPE_C      2.0  Beverages  Indian          243.50      242.50   \n",
       "\n",
       "   emailer_for_promotion  homepage_featured  num_orders  \n",
       "0                      0                  0         177  \n",
       "1                      0                  0         270  \n",
       "2                      0                  0         189  \n",
       "3                      0                  0          54  \n",
       "4                      0                  0          40  "
      ]
     },
     "execution_count": 17,
     "metadata": {},
     "output_type": "execute_result"
    }
   ],
   "source": [
    "df.head()"
   ]
  },
  {
   "cell_type": "code",
   "execution_count": 18,
   "id": "1245730c",
   "metadata": {},
   "outputs": [
    {
     "data": {
      "text/plain": [
       "(456548, 14)"
      ]
     },
     "execution_count": 18,
     "metadata": {},
     "output_type": "execute_result"
    }
   ],
   "source": [
    "df.shape"
   ]
  },
  {
   "cell_type": "code",
   "execution_count": 19,
   "id": "b435f335",
   "metadata": {},
   "outputs": [],
   "source": [
    "from confluent_kafka import Producer"
   ]
  },
  {
   "cell_type": "code",
   "execution_count": 20,
   "id": "7be07a94",
   "metadata": {},
   "outputs": [],
   "source": [
    "topic = 'bigd'\n",
    "bootstrap_servers = 'localhost:9092'\n",
    "import logging\n",
    "import os"
   ]
  },
  {
   "cell_type": "code",
   "execution_count": 21,
   "id": "1b7e3f9e",
   "metadata": {},
   "outputs": [],
   "source": [
    "conf = {'bootstrap.servers': bootstrap_servers,'acks': 'all',  \n",
    "    'compression.type': 'gzip',\n",
    "       \"queue.buffering.max.messages\": 10000000,}\n",
    "producer = Producer(conf)"
   ]
  },
  {
   "cell_type": "code",
   "execution_count": 22,
   "id": "b12b69fb",
   "metadata": {},
   "outputs": [
    {
     "data": {
      "text/plain": [
       "0"
      ]
     },
     "execution_count": 22,
     "metadata": {},
     "output_type": "execute_result"
    }
   ],
   "source": [
    "for index, row in df.iterrows():\n",
    "    message = ','.join(map(str, row))\n",
    "    producer.produce(topic, value=message)\n",
    "producer.flush()"
   ]
  },
  {
   "cell_type": "code",
   "execution_count": null,
   "id": "eaed652b",
   "metadata": {},
   "outputs": [],
   "source": []
  },
  {
   "cell_type": "code",
   "execution_count": null,
   "id": "580926ee",
   "metadata": {},
   "outputs": [],
   "source": []
  },
  {
   "cell_type": "code",
   "execution_count": null,
   "id": "ddf40505",
   "metadata": {},
   "outputs": [],
   "source": []
  },
  {
   "cell_type": "code",
   "execution_count": null,
   "id": "cd23614c",
   "metadata": {},
   "outputs": [],
   "source": []
  }
 ],
 "metadata": {
  "kernelspec": {
   "display_name": "Python 3 (ipykernel)",
   "language": "python",
   "name": "python3"
  },
  "language_info": {
   "codemirror_mode": {
    "name": "ipython",
    "version": 3
   },
   "file_extension": ".py",
   "mimetype": "text/x-python",
   "name": "python",
   "nbconvert_exporter": "python",
   "pygments_lexer": "ipython3",
   "version": "3.11.5"
  }
 },
 "nbformat": 4,
 "nbformat_minor": 5
}
