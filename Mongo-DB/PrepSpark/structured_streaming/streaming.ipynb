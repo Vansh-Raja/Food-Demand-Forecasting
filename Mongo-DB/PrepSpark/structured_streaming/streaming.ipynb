{
 "cells": [
  {
   "cell_type": "markdown",
   "metadata": {},
   "source": [
    "# Pyspark Streaming Food data "
   ]
  },
  {
   "cell_type": "code",
   "execution_count": 1,
   "metadata": {},
   "outputs": [
    {
     "name": "stderr",
     "output_type": "stream",
     "text": [
      "24/01/13 16:38:23 WARN Utils: Your hostname, Ubuntu resolves to a loopback address: 127.0.1.1; using 10.0.2.15 instead (on interface enp0s3)\n",
      "24/01/13 16:38:23 WARN Utils: Set SPARK_LOCAL_IP if you need to bind to another address\n",
      "Setting default log level to \"WARN\".\n",
      "To adjust logging level use sc.setLogLevel(newLevel). For SparkR, use setLogLevel(newLevel).\n",
      "24/01/13 16:38:26 WARN NativeCodeLoader: Unable to load native-hadoop library for your platform... using builtin-java classes where applicable\n",
      "24/01/13 16:38:31 WARN Utils: Service 'SparkUI' could not bind on port 4040. Attempting port 4041.\n"
     ]
    },
    {
     "data": {
      "text/html": [
       "\n",
       "            <div>\n",
       "                <p><b>SparkSession - in-memory</b></p>\n",
       "                \n",
       "        <div>\n",
       "            <p><b>SparkContext</b></p>\n",
       "\n",
       "            <p><a href=\"http://10.0.2.15:4041\">Spark UI</a></p>\n",
       "\n",
       "            <dl>\n",
       "              <dt>Version</dt>\n",
       "                <dd><code>v3.5.0</code></dd>\n",
       "              <dt>Master</dt>\n",
       "                <dd><code>local[*]</code></dd>\n",
       "              <dt>AppName</dt>\n",
       "                <dd><code>Streaming Process Files</code></dd>\n",
       "            </dl>\n",
       "        </div>\n",
       "        \n",
       "            </div>\n",
       "        "
      ],
      "text/plain": [
       "<pyspark.sql.session.SparkSession at 0x7f6a596ad570>"
      ]
     },
     "execution_count": 1,
     "metadata": {},
     "output_type": "execute_result"
    }
   ],
   "source": [
    "# Create the Spark Session\n",
    "from pyspark.sql import SparkSession\n",
    "\n",
    "spark = SparkSession \\\n",
    "    .builder \\\n",
    "    .appName(\"Streaming Process Files\") \\\n",
    "    .config(\"spark.streaming.stopGracefullyOnShutdown\", True) \\\n",
    "    .master(\"local[*]\") \\\n",
    "    .getOrCreate()\n",
    "\n",
    "spark"
   ]
  },
  {
   "cell_type": "code",
   "execution_count": 2,
   "metadata": {},
   "outputs": [
    {
     "name": "stderr",
     "output_type": "stream",
     "text": [
      "                                                                                \r"
     ]
    },
    {
     "name": "stdout",
     "output_type": "stream",
     "text": [
      "+-------+----+---------+---------+-----------+-----------+-------+-------+---------+-------+--------------+----------+---------------------+-----------------+----------+\n",
      "|     id|week|center_id|city_code|region_code|center_type|op_area|meal_id| category|cuisine|checkout_price|base_price|emailer_for_promotion|homepage_featured|num_orders|\n",
      "+-------+----+---------+---------+-----------+-----------+-------+-------+---------+-------+--------------+----------+---------------------+-----------------+----------+\n",
      "|1379560|   1|       55|      647|         56|     TYPE_C|    2.0|   1885|Beverages|   Thai|        136.83|    152.29|                    0|                0|       177|\n",
      "|1018704|   2|       55|      647|         56|     TYPE_C|    2.0|   1885|Beverages|   Thai|        135.83|    152.29|                    0|                0|       323|\n",
      "|1196273|   3|       55|      647|         56|     TYPE_C|    2.0|   1885|Beverages|   Thai|        132.92|    133.92|                    0|                0|        96|\n",
      "|1116527|   4|       55|      647|         56|     TYPE_C|    2.0|   1885|Beverages|   Thai|        135.86|    134.86|                    0|                0|       163|\n",
      "|1343872|   5|       55|      647|         56|     TYPE_C|    2.0|   1885|Beverages|   Thai|         146.5|     147.5|                    0|                0|       215|\n",
      "|1493612|   6|       55|      647|         56|     TYPE_C|    2.0|   1885|Beverages|   Thai|        146.53|    146.53|                    0|                0|       285|\n",
      "|1110832|   7|       55|      647|         56|     TYPE_C|    2.0|   1885|Beverages|   Thai|        145.53|    146.53|                    0|                0|       148|\n",
      "|1461167|   8|       55|      647|         56|     TYPE_C|    2.0|   1885|Beverages|   Thai|        146.53|    145.53|                    0|                0|       135|\n",
      "|1102364|   9|       55|      647|         56|     TYPE_C|    2.0|   1885|Beverages|   Thai|        134.83|    134.83|                    0|                0|       175|\n",
      "|1018130|  10|       55|      647|         56|     TYPE_C|    2.0|   1885|Beverages|   Thai|        144.56|    143.56|                    0|                0|       175|\n",
      "|1047565|  11|       55|      647|         56|     TYPE_C|    2.0|   1885|Beverages|   Thai|        146.53|    144.53|                    0|                0|       244|\n",
      "|1282497|  12|       55|      647|         56|     TYPE_C|    2.0|   1885|Beverages|   Thai|        145.53|    146.53|                    0|                0|       190|\n",
      "|1136216|  13|       55|      647|         56|     TYPE_C|    2.0|   1885|Beverages|   Thai|         145.5|     146.5|                    0|                0|        68|\n",
      "|1196793|  14|       55|      647|         56|     TYPE_C|    2.0|   1885|Beverages|   Thai|        142.62|    141.62|                    0|                0|       135|\n",
      "|1324644|  15|       55|      647|         56|     TYPE_C|    2.0|   1885|Beverages|   Thai|        117.37|    143.62|                    0|                0|       366|\n",
      "|1239157|  16|       55|      647|         56|     TYPE_C|    2.0|   1885|Beverages|   Thai|        117.37|    141.62|                    0|                0|        67|\n",
      "|1056819|  17|       55|      647|         56|     TYPE_C|    2.0|   1885|Beverages|   Thai|        122.28|    143.62|                    0|                0|       270|\n",
      "|1278127|  18|       55|      647|         56|     TYPE_C|    2.0|   1885|Beverages|   Thai|        120.28|    142.62|                    0|                0|       350|\n",
      "|1027349|  19|       55|      647|         56|     TYPE_C|    2.0|   1885|Beverages|   Thai|        120.28|    143.62|                    0|                0|       244|\n",
      "|1466073|  20|       55|      647|         56|     TYPE_C|    2.0|   1885|Beverages|   Thai|        121.28|    142.62|                    0|                0|       188|\n",
      "+-------+----+---------+---------+-----------+-----------+-------+-------+---------+-------+--------------+----------+---------------------+-----------------+----------+\n",
      "only showing top 20 rows\n",
      "\n"
     ]
    }
   ],
   "source": [
    "df_pyspark=spark.read.csv('final_train.csv', header=True, inferSchema=True)\n",
    "df_pyspark.show()"
   ]
  },
  {
   "cell_type": "code",
   "execution_count": 3,
   "metadata": {},
   "outputs": [
    {
     "name": "stderr",
     "output_type": "stream",
     "text": [
      "24/01/13 16:39:36 WARN SparkStringUtils: Truncated the string representation of a plan since it was too large. This behavior can be adjusted by setting 'spark.sql.debug.maxToStringFields'.\n",
      "[Stage 5:>                                                          (0 + 1) / 1]\r"
     ]
    },
    {
     "name": "stdout",
     "output_type": "stream",
     "text": [
      "+-------+------------------+-----------------+-----------------+-----------------+------------------+-----------+-----------------+------------------+---------+-----------+------------------+------------------+---------------------+-------------------+-----------------+\n",
      "|summary|                id|             week|        center_id|        city_code|       region_code|center_type|          op_area|           meal_id| category|    cuisine|    checkout_price|        base_price|emailer_for_promotion|  homepage_featured|       num_orders|\n",
      "+-------+------------------+-----------------+-----------------+-----------------+------------------+-----------+-----------------+------------------+---------+-----------+------------------+------------------+---------------------+-------------------+-----------------+\n",
      "|  count|            456548|           456548|           456548|           456548|            456548|     456548|           456548|            456548|   456548|     456548|            456548|            456548|               456548|             456548|           456547|\n",
      "|   mean|1250096.3056327046|74.76877130115562|82.10579610468122|601.5533985473597|56.614566266854744|       NULL|4.083589896355616|2024.3374584928638|     NULL|       NULL|332.23893255480715| 354.1566274521909|  0.08115247465764827|0.10919990888143197|261.9094704378739|\n",
      "| stddev|144354.82237788002|41.52495637124615|45.97504601530882|66.19591447338004|17.641305549795614|       NULL|1.091686418992939| 547.4209201301155|     NULL|       NULL|152.93972330775975|160.71591398982554|   0.2730694304425941|0.31189020800456874| 396.821332681589|\n",
      "|    min|           1000000|                1|               10|              456|                23|     TYPE_A|              0.9|              1062|Beverages|Continental|              2.97|             55.35|                    0|                  0|               13|\n",
      "|    max|           1499999|              145|              186|              713|                93|     TYPE_C|              7.0|              2956| Starters|       Thai|            866.27|            866.27|                    1|                  1|            24299|\n",
      "+-------+------------------+-----------------+-----------------+-----------------+------------------+-----------+-----------------+------------------+---------+-----------+------------------+------------------+---------------------+-------------------+-----------------+\n",
      "\n"
     ]
    },
    {
     "name": "stderr",
     "output_type": "stream",
     "text": [
      "                                                                                \r"
     ]
    }
   ],
   "source": [
    "df_pyspark.describe().show()"
   ]
  },
  {
   "cell_type": "markdown",
   "metadata": {},
   "source": [
    "- We don't need last two columns 'isFraud' and 'isFlaggedFraud' as for streaming systems"
   ]
  },
  {
   "cell_type": "markdown",
   "metadata": {},
   "source": [
    "- Step column maps a unit of time in the real world. In this case let us assume that the value of '1' in step represents 1 hour of time.\n",
    "- So we can assume for this example that we have another job that runs every hour and gets all the transactions in that time frame."
   ]
  },
  {
   "cell_type": "code",
   "execution_count": 5,
   "metadata": {},
   "outputs": [
    {
     "name": "stderr",
     "output_type": "stream",
     "text": [
      "[Stage 6:=============================>                             (1 + 1) / 2]\r"
     ]
    },
    {
     "name": "stdout",
     "output_type": "stream",
     "text": [
      "+----+-----+\n",
      "|week|count|\n",
      "+----+-----+\n",
      "| 122| 3359|\n",
      "| 105| 3348|\n",
      "| 106| 3347|\n",
      "| 140| 3332|\n",
      "| 123| 3331|\n",
      "| 134| 3330|\n",
      "| 133| 3324|\n",
      "| 113| 3312|\n",
      "| 100| 3309|\n",
      "| 143| 3305|\n",
      "|  94| 3303|\n",
      "| 144| 3302|\n",
      "| 114| 3300|\n",
      "| 109| 3299|\n",
      "| 121| 3298|\n",
      "| 131| 3293|\n",
      "| 110| 3293|\n",
      "| 129| 3291|\n",
      "| 117| 3290|\n",
      "|  91| 3289|\n",
      "+----+-----+\n",
      "only showing top 20 rows\n",
      "\n"
     ]
    },
    {
     "name": "stderr",
     "output_type": "stream",
     "text": [
      "                                                                                \r"
     ]
    }
   ],
   "source": [
    "from pyspark.sql.functions import sum, col, desc\n",
    "df_pyspark.groupBy('week').count().sort(desc('count')).show()"
   ]
  },
  {
   "cell_type": "markdown",
   "metadata": {},
   "source": [
    "- We can clearly see the number of transactions(count) for each step\n",
    "- We can now save the output by filtering on each step and saving it as a seperate file"
   ]
  },
  {
   "cell_type": "code",
   "execution_count": 6,
   "metadata": {},
   "outputs": [
    {
     "name": "stderr",
     "output_type": "stream",
     "text": [
      "                                                                                \r"
     ]
    },
    {
     "name": "stdout",
     "output_type": "stream",
     "text": [
      "[Row(week=31), Row(week=85), Row(week=137), Row(week=65), Row(week=53), Row(week=133), Row(week=78), Row(week=108), Row(week=34), Row(week=101), Row(week=115), Row(week=126), Row(week=81), Row(week=28), Row(week=76), Row(week=26), Row(week=27), Row(week=44), Row(week=103), Row(week=12), Row(week=91), Row(week=22), Row(week=128), Row(week=122), Row(week=93), Row(week=111), Row(week=47), Row(week=140), Row(week=132), Row(week=1), Row(week=52), Row(week=13), Row(week=6), Row(week=16), Row(week=86), Row(week=3), Row(week=142), Row(week=20), Row(week=40), Row(week=139), Row(week=94), Row(week=57), Row(week=54), Row(week=120), Row(week=96), Row(week=48), Row(week=5), Row(week=19), Row(week=92), Row(week=64), Row(week=117), Row(week=41), Row(week=15), Row(week=43), Row(week=112), Row(week=37), Row(week=61), Row(week=127), Row(week=88), Row(week=107), Row(week=9), Row(week=17), Row(week=72), Row(week=35), Row(week=114), Row(week=4), Row(week=55), Row(week=59), Row(week=8), Row(week=100), Row(week=23), Row(week=39), Row(week=49), Row(week=7), Row(week=130), Row(week=84), Row(week=136), Row(week=87), Row(week=51), Row(week=69), Row(week=129), Row(week=97), Row(week=63), Row(week=10), Row(week=77), Row(week=102), Row(week=50), Row(week=45), Row(week=38), Row(week=82), Row(week=80), Row(week=25), Row(week=73), Row(week=113), Row(week=24), Row(week=70), Row(week=62), Row(week=121), Row(week=125), Row(week=143), Row(week=95), Row(week=29), Row(week=21), Row(week=98), Row(week=32), Row(week=60), Row(week=90), Row(week=75), Row(week=141), Row(week=145), Row(week=56), Row(week=109), Row(week=105), Row(week=58), Row(week=11), Row(week=33), Row(week=83), Row(week=110), Row(week=68), Row(week=71), Row(week=106), Row(week=116), Row(week=14), Row(week=123), Row(week=135), Row(week=42), Row(week=119), Row(week=2), Row(week=79), Row(week=131), Row(week=118), Row(week=124), Row(week=30), Row(week=99), Row(week=66), Row(week=46), Row(week=67), Row(week=144), Row(week=18), Row(week=74), Row(week=138), Row(week=104), Row(week=134), Row(week=36), Row(week=89)]\n"
     ]
    },
    {
     "name": "stderr",
     "output_type": "stream",
     "text": [
      "                                                                                \r"
     ]
    }
   ],
   "source": [
    "weeks = df_pyspark.select('week').distinct().collect()\n",
    "print(weeks)\n",
    "for week in weeks:\n",
    "    df_upt = df_pyspark.where(f'week = {week[0]}')\n",
    "    # By addig coalesce(1) we save the dataframe to one file\n",
    "    df_upt.coalesce(1).write.mode('append').option('header', 'true').csv('data/food_data_upt')\n"
   ]
  },
  {
   "cell_type": "code",
   "execution_count": 8,
   "metadata": {},
   "outputs": [
    {
     "name": "stdout",
     "output_type": "stream",
     "text": [
      "part-00000-03b67e06-404f-41c2-9aa3-f694aa319792-c000.csv\n",
      "part-00000-07032cf7-1e73-4288-b965-e3bc399866fb-c000.csv\n",
      "part-00000-084ca283-4bec-402e-8df9-1742389ebb8f-c000.csv\n",
      "part-00000-08ecd9c0-989f-4815-956d-c6e4bc357aa0-c000.csv\n",
      "part-00000-092553ac-a24c-47dc-b7f9-359c87ffec1b-c000.csv\n",
      "part-00000-0a482730-8851-4491-b9bc-0b4489a7097c-c000.csv\n",
      "part-00000-0b470524-6494-4afe-8a24-3dd7b2a27aef-c000.csv\n",
      "part-00000-0fd1c8b4-781e-4192-a130-28bd2cbc173e-c000.csv\n",
      "part-00000-12b64b7f-7e6d-4cd5-a9cd-96dd0d2bbbd8-c000.csv\n",
      "part-00000-18484a15-965b-4127-9409-8ee46a7b6ab9-c000.csv\n",
      "part-00000-1a1996cd-ca93-46eb-9295-27354e0129ad-c000.csv\n",
      "part-00000-1b3833c7-c251-4a8b-a506-a026e98dacd2-c000.csv\n",
      "part-00000-1b94c717-9bdd-4cf9-a3c7-e61cdb13521d-c000.csv\n",
      "part-00000-1e078d57-3c2c-4b8a-bdc0-6a897360af64-c000.csv\n",
      "part-00000-1f9bcffc-ff03-4936-81b7-1205086adffe-c000.csv\n",
      "part-00000-274a5446-8f78-4825-a87d-8d0696e6f266-c000.csv\n",
      "part-00000-28c0ff22-37a3-4358-8662-f16d18aa6505-c000.csv\n",
      "part-00000-2a38427e-96bf-43eb-a46b-e175c66fd741-c000.csv\n",
      "part-00000-2c6df64c-4917-43bc-b9ff-9d8daa90c781-c000.csv\n",
      "part-00000-2e0b3531-5d2a-4166-8922-452ab2c9a57c-c000.csv\n",
      "part-00000-2e826aeb-c2ea-46f3-818b-e6c9ed6eee62-c000.csv\n",
      "part-00000-30ca46ae-b09a-4af8-b906-b2b6d6939be8-c000.csv\n",
      "part-00000-31debc95-1c24-4d58-9829-d189f615afce-c000.csv\n",
      "part-00000-342718cc-5d60-4cc0-a7c2-821ed707f4c0-c000.csv\n",
      "part-00000-351840ad-f91a-4750-87d9-64be2eb0f2f9-c000.csv\n",
      "part-00000-367394b2-e92c-43cf-8043-eca579be7d5f-c000.csv\n",
      "part-00000-38ff5f6b-7b53-4ce0-82eb-7a6f711a0c77-c000.csv\n",
      "part-00000-3a71c824-fa48-4c70-926a-7b845d3f7310-c000.csv\n",
      "part-00000-3be57d3f-0d6b-4cb3-8687-eb745bc5639b-c000.csv\n",
      "part-00000-3dfdb4ff-6868-442c-958c-da368356b534-c000.csv\n",
      "part-00000-3edc8cad-875d-474c-a2a6-f17eaad97a98-c000.csv\n",
      "part-00000-3ee78451-d19d-463a-9241-b0da3beebef0-c000.csv\n",
      "part-00000-3f86da60-d7c8-4950-8775-05871b6d349e-c000.csv\n",
      "part-00000-42711ae7-6b00-4fcb-ad5e-c4d04f1dafae-c000.csv\n",
      "part-00000-42f18ef4-5349-4afd-9cfd-cec9c94bbccc-c000.csv\n",
      "part-00000-43592b5f-f0f0-4290-a71b-733f5edaca32-c000.csv\n",
      "part-00000-45371662-6fd6-4b4f-a3e7-db4d6c3f0c01-c000.csv\n",
      "part-00000-46335f5a-41e3-47cf-aa78-4f9392505ba3-c000.csv\n",
      "part-00000-47dfb116-6e3e-4b0e-93ce-d702706f82b0-c000.csv\n",
      "part-00000-48edbeb6-2807-4f2a-af12-8468fe01e3df-c000.csv\n",
      "part-00000-48f4a601-744e-4640-8190-a17cb2b6f438-c000.csv\n",
      "part-00000-4b3febeb-6972-4ab5-98e0-8c457eaf40bd-c000.csv\n",
      "part-00000-4e4f7aef-3d29-4c68-8f60-a49652324726-c000.csv\n",
      "part-00000-4eba2d75-7c40-4ed4-9af7-74239122308e-c000.csv\n",
      "part-00000-4ec85855-0a2e-4337-ab9d-ede4c39ade5f-c000.csv\n",
      "part-00000-509b1464-5f58-4ed5-b76c-7d7791b2b6b9-c000.csv\n",
      "part-00000-51ca6b95-2dfe-4635-9147-57a24b508cea-c000.csv\n",
      "part-00000-544539fb-05a2-475a-b4a5-41520d63413b-c000.csv\n",
      "part-00000-5492a292-baf0-43f6-a8f1-d5574a892796-c000.csv\n",
      "part-00000-5c878d96-c653-4bd1-936d-0ebf37dc0b2f-c000.csv\n",
      "part-00000-5d3d00a0-9077-424d-8a7a-bc99a6fa82a0-c000.csv\n",
      "part-00000-5f59fe72-05aa-46ae-881a-96263419a32c-c000.csv\n",
      "part-00000-5f658965-9a4b-4480-9416-ca92bbdb74f1-c000.csv\n",
      "part-00000-634225fe-e4a2-44f6-bb37-08ffdb71eaaf-c000.csv\n",
      "part-00000-63840bf7-7dec-4d89-b608-6256f8a4f6c9-c000.csv\n",
      "part-00000-63d8b9ac-7f36-4a1f-bfe0-a83f313bc911-c000.csv\n",
      "part-00000-63eb8f19-f712-41a1-977d-34d286f06320-c000.csv\n",
      "part-00000-67d11734-e976-4519-9dcc-624e5417f704-c000.csv\n",
      "part-00000-67ede41b-fdbb-4313-ae5d-137d03f82c58-c000.csv\n",
      "part-00000-69c9d763-6217-41c3-9039-132c9cb692bd-c000.csv\n",
      "part-00000-6c709d3f-9820-4fd4-96f3-2c54205eba89-c000.csv\n",
      "part-00000-6e61f997-7202-4806-970c-75f0c13b17ad-c000.csv\n",
      "part-00000-7087a77b-8ab4-4738-9d20-12ab65566397-c000.csv\n",
      "part-00000-70d39a0c-2b77-4d07-b8df-e619561bb05e-c000.csv\n",
      "part-00000-73727de0-64ae-47ce-b9d7-5915640040bf-c000.csv\n",
      "part-00000-740f2540-4db9-4bf0-a1e1-e02f3fedcb41-c000.csv\n",
      "part-00000-762501d5-270e-4e8b-8a19-e809bbab81be-c000.csv\n",
      "part-00000-7770b0a1-d562-4066-a9d1-ba79d31cfaf2-c000.csv\n",
      "part-00000-7931529d-0597-4b37-a20c-fb88193a540b-c000.csv\n",
      "part-00000-79da77bf-37a2-4250-a395-822c1cf31bdd-c000.csv\n",
      "part-00000-7b243545-6b8e-4c6e-9130-6e145b19c02f-c000.csv\n",
      "part-00000-7e03eacd-1e3c-45bb-a2f3-23166e33a3c8-c000.csv\n",
      "part-00000-7e8a1b40-d540-427e-9e6e-8d33cb549304-c000.csv\n",
      "part-00000-7fdce0f7-8463-4ff1-9160-5be040cc49e1-c000.csv\n",
      "part-00000-81b7a4fe-5c6a-45d1-a36c-ab8e9ef641c0-c000.csv\n",
      "part-00000-822927a3-bf1c-435f-989a-29faa05a9a16-c000.csv\n",
      "part-00000-829038cb-7c48-489f-8139-7bb62735d171-c000.csv\n",
      "part-00000-85e81eb9-95f9-4b5d-881a-cd3eff02f903-c000.csv\n",
      "part-00000-872bbe24-972f-4fd3-a892-663ddb51fa26-c000.csv\n",
      "part-00000-878146fd-8368-40fb-8a47-5c532a030acb-c000.csv\n",
      "part-00000-8792ed43-dd81-4ed3-bbe5-92d4fa3ad3ec-c000.csv\n",
      "part-00000-899bdd1c-e7ac-480c-9c0a-05370cb5f187-c000.csv\n",
      "part-00000-8d2a4837-6bf6-4f28-b79c-1eb77e7e78e0-c000.csv\n",
      "part-00000-92155b33-3c21-47e7-94cb-009988d4379d-c000.csv\n",
      "part-00000-93a19369-7eee-4492-9333-9fc7e5eff627-c000.csv\n",
      "part-00000-93dc4c9c-7e99-425f-8ce9-ad3d47a41f8b-c000.csv\n",
      "part-00000-955deed2-3256-4ae6-aa13-ef061ce9fc97-c000.csv\n",
      "part-00000-97e9e8cd-881d-476c-8c5c-0e7b303356ca-c000.csv\n",
      "part-00000-9837d0c0-99c5-4070-8321-b55366e6a8f6-c000.csv\n",
      "part-00000-983f483c-faec-4af6-a9d7-f74653c0e2d7-c000.csv\n",
      "part-00000-98d4bb46-5697-45da-a176-0bbf2b219606-c000.csv\n",
      "part-00000-9a2d9f88-b9bd-4a6b-aff1-c61d0547a8db-c000.csv\n",
      "part-00000-9bd289e1-4a09-491a-af47-1df8949d256d-c000.csv\n",
      "part-00000-9cf840e5-0c4b-43ef-8bb4-6654b9f441aa-c000.csv\n",
      "part-00000-9e1f1f7d-d7a3-41b4-9bf1-cd521f60cd82-c000.csv\n",
      "part-00000-9f5327e7-18cc-4966-a391-7227ae8e9ccb-c000.csv\n",
      "part-00000-a04160de-7c9e-4fce-930b-3f433c3232cd-c000.csv\n",
      "part-00000-a2b0bc0d-3e54-4220-80a8-2f936d0228c8-c000.csv\n",
      "part-00000-a2b1d939-058a-48c5-a0de-f4267fc07450-c000.csv\n",
      "part-00000-a3d4a175-ec82-4990-9b9e-c1dbdb369749-c000.csv\n",
      "part-00000-a52591df-5863-4731-a7b1-edcb37cbf9ca-c000.csv\n",
      "part-00000-a56a3a3e-b54d-4f2c-acf6-c9113ff8bc0a-c000.csv\n",
      "part-00000-a5c9e182-30e8-46c0-8ecf-be39921ed477-c000.csv\n",
      "part-00000-acc91d51-8cbd-4f84-ac5e-c18b9e3515c9-c000.csv\n",
      "part-00000-ae2d324d-66c5-4781-a4af-bbc6b9ae492e-c000.csv\n",
      "part-00000-af6f2d83-f35f-4a08-babd-d27c853c95c2-c000.csv\n",
      "part-00000-b291b209-52f6-405f-91be-a844186d5b77-c000.csv\n",
      "part-00000-b2aecf4a-8bfa-4e16-8f9a-42d5e59dcf00-c000.csv\n",
      "part-00000-b41aa92e-cac4-4cdf-9aa8-68df13e0e44a-c000.csv\n",
      "part-00000-b4984f92-4fd3-43f6-b8b1-a94c066a7eba-c000.csv\n",
      "part-00000-b57dd72d-64a3-4a0a-8c2e-abb953141ec0-c000.csv\n",
      "part-00000-b588c014-f738-4e4f-ba7f-89239d947fee-c000.csv\n",
      "part-00000-b85004ad-4820-4ad0-ae8d-4ea20e5c1032-c000.csv\n",
      "part-00000-b87eca92-9a4b-4121-adf9-4b74432e2701-c000.csv\n",
      "part-00000-b91289e0-23f5-4a0a-87fa-b4e7fca787d5-c000.csv\n",
      "part-00000-ba5ecad6-8497-4bc4-b0a9-1b90c3bc8c28-c000.csv\n",
      "part-00000-bc664bf3-1b2d-44ca-a936-fd094c7e5bb7-c000.csv\n",
      "part-00000-c2d975c8-196d-4fef-8f3d-fe45d1dee5b9-c000.csv\n",
      "part-00000-c5160539-96df-4e37-b8af-ba9d012d68ac-c000.csv\n",
      "part-00000-cb46e828-de89-48d0-a3b9-091699ed4938-c000.csv\n",
      "part-00000-cb72d47b-fb5e-4ffb-966a-dba48d9197b5-c000.csv\n",
      "part-00000-cd77a180-a8d2-4cc5-a600-f8bd7966af82-c000.csv\n",
      "part-00000-d00e80c2-3fbd-4856-90d7-cff642ff2dd2-c000.csv\n",
      "part-00000-d0fd1ff1-2481-454f-b626-7bbf6c74d01a-c000.csv\n",
      "part-00000-d11d76d7-ec97-4040-87ef-45b2e933cfab-c000.csv\n",
      "part-00000-d5236a7b-b775-49e3-864a-972384da44f3-c000.csv\n",
      "part-00000-d7ff3e23-2f60-40dd-8eb4-055e00373671-c000.csv\n",
      "part-00000-d9961116-f627-46e7-b8ba-876cd2c44eed-c000.csv\n",
      "part-00000-dbbcedbb-f5e1-48c9-bbd0-5f1fab16dec1-c000.csv\n",
      "part-00000-dd77a1ae-4aeb-4fce-81d5-26c9f5ba6c00-c000.csv\n",
      "part-00000-dd815653-ae47-4ef6-8480-79c5240e20b4-c000.csv\n",
      "part-00000-dff90759-52d8-43ff-ba80-635c49727b66-c000.csv\n",
      "part-00000-e08fde26-cfa7-494e-bb2f-7631974beb43-c000.csv\n",
      "part-00000-e23b9015-08be-4fa5-a009-b5ba51729f65-c000.csv\n",
      "part-00000-e3b4a639-e353-45ed-8bfc-8bcc2956e4e6-c000.csv\n",
      "part-00000-e5537f6a-ca44-4eab-bbc2-c0ab2951bdbd-c000.csv\n",
      "part-00000-e89bd10b-a594-4891-b8dc-cbb0e5bf26ff-c000.csv\n",
      "part-00000-ec829206-1299-469c-b341-8c9fc37610fe-c000.csv\n",
      "part-00000-ed9278fb-1062-4401-b475-d7aebc3258bd-c000.csv\n",
      "part-00000-f3dd34e9-236c-45bf-a88e-2f0b5fb54231-c000.csv\n",
      "part-00000-f4857737-01ac-4623-9ef6-c8265cbaecac-c000.csv\n",
      "part-00000-f5682565-817d-4124-9688-e817aca37afa-c000.csv\n",
      "part-00000-f7ed5cd9-36f6-4274-b974-461e9de1d52d-c000.csv\n",
      "part-00000-f7fb40bb-eb99-40a0-988a-ea0be9251500-c000.csv\n",
      "part-00000-f8255893-41a3-4f33-8b10-e125f1b8787d-c000.csv\n",
      "_SUCCESS\n"
     ]
    }
   ],
   "source": [
    "!cd data/food_data_upt/ && ls"
   ]
  },
  {
   "cell_type": "code",
   "execution_count": 14,
   "metadata": {},
   "outputs": [
    {
     "name": "stderr",
     "output_type": "stream",
     "text": [
      "                                                                                \r"
     ]
    },
    {
     "name": "stdout",
     "output_type": "stream",
     "text": [
      "+-------+----+---------+---------+-----------+-----------+-------+-------+---------+-------+--------------+----------+---------------------+-----------------+----------+\n",
      "|     id|week|center_id|city_code|region_code|center_type|op_area|meal_id| category|cuisine|checkout_price|base_price|emailer_for_promotion|homepage_featured|num_orders|\n",
      "+-------+----+---------+---------+-----------+-----------+-------+-------+---------+-------+--------------+----------+---------------------+-----------------+----------+\n",
      "|1211414|  33|       55|      647|         56|     TYPE_C|    2.0|   1885|Beverages|   Thai|        123.25|    122.25|                    0|                0|       215|\n",
      "|1212312|  33|       24|      614|         85|     TYPE_B|    3.6|   1885|Beverages|   Thai|         146.5|     146.5|                    0|                0|      1242|\n",
      "|1117798|  33|       11|      679|         56|     TYPE_A|    3.7|   1885|Beverages|   Thai|        121.28|    120.28|                    0|                0|      1095|\n",
      "|1473018|  33|       83|      659|         77|     TYPE_A|    5.3|   1885|Beverages|   Thai|        121.31|    121.31|                    0|                0|       634|\n",
      "|1329899|  33|       32|      526|         34|     TYPE_A|    3.8|   1885|Beverages|   Thai|         97.03|     96.03|                    0|                0|       622|\n",
      "|1415206|  33|       13|      590|         56|     TYPE_B|    6.7|   1885|Beverages|   Thai|        143.56|    162.96|                    0|                1|      1945|\n",
      "|1378299|  33|      109|      599|         56|     TYPE_A|    3.6|   1885|Beverages|   Thai|         145.5|     146.5|                    0|                0|       850|\n",
      "|1498655|  33|       52|      685|         56|     TYPE_B|    5.6|   1885|Beverages|   Thai|        144.56|    144.56|                    0|                0|      1215|\n",
      "|1239637|  33|       93|      461|         34|     TYPE_A|    3.9|   1885|Beverages|   Thai|         96.09|     95.09|                    0|                0|       566|\n",
      "|1205658|  33|      186|      649|         34|     TYPE_A|    3.4|   1885|Beverages|   Thai|         93.12|     95.12|                    0|                0|       256|\n",
      "|1453837|  33|      146|      526|         34|     TYPE_B|    5.0|   1885|Beverages|   Thai|         95.06|     96.06|                    0|                0|       499|\n",
      "|1077333|  33|       57|      541|         77|     TYPE_C|    2.8|   1885|Beverages|   Thai|        120.31|    119.31|                    0|                0|        81|\n",
      "|1154909|  33|      149|      478|         77|     TYPE_A|    2.4|   1885|Beverages|   Thai|        119.34|    120.28|                    0|                1|       420|\n",
      "|1254239|  33|       89|      703|         56|     TYPE_A|    4.8|   1885|Beverages|   Thai|        122.28|    121.28|                    0|                0|       797|\n",
      "|1322042|  33|      124|      590|         56|     TYPE_C|    4.0|   1885|Beverages|   Thai|        144.53|    145.53|                    0|                0|       433|\n",
      "|1274716|  33|      152|      576|         34|     TYPE_B|    4.0|   1885|Beverages|   Thai|         95.06|     97.06|                    0|                0|       366|\n",
      "|1180634|  33|       97|      628|         77|     TYPE_A|    4.6|   1885|Beverages|   Thai|        120.28|    120.28|                    0|                0|       663|\n",
      "|1107711|  33|       74|      702|         35|     TYPE_A|    2.8|   1885|Beverages|   Thai|         97.03|     96.03|                    0|                0|       284|\n",
      "|1222425|  33|      108|      579|         56|     TYPE_B|    4.4|   1885|Beverages|   Thai|        143.59|    143.59|                    0|                0|      1106|\n",
      "|1280451|  33|       99|      596|         71|     TYPE_A|    4.5|   1885|Beverages|   Thai|         145.5|     145.5|                    0|                0|       716|\n",
      "+-------+----+---------+---------+-----------+-----------+-------+-------+---------+-------+--------------+----------+---------------------+-----------------+----------+\n",
      "only showing top 20 rows\n",
      "\n"
     ]
    }
   ],
   "source": [
    "df_partition= spark.read.csv(\n",
    "    \"data/food_data_upt/part-00000-092553ac-a24c-47dc-b7f9-359c87ffec1b-c000.csv\",\n",
    "    header=True, \n",
    "    inferSchema=True,\n",
    "\n",
    ")\n",
    "df_partition.show()"
   ]
  },
  {
   "cell_type": "code",
   "execution_count": 15,
   "metadata": {},
   "outputs": [
    {
     "name": "stderr",
     "output_type": "stream",
     "text": [
      "[Stage 162:>                                                        (0 + 1) / 1]\r"
     ]
    },
    {
     "name": "stdout",
     "output_type": "stream",
     "text": [
      "+----+-----+\n",
      "|week|count|\n",
      "+----+-----+\n",
      "|  33| 3045|\n",
      "+----+-----+\n",
      "\n"
     ]
    },
    {
     "name": "stderr",
     "output_type": "stream",
     "text": [
      "                                                                                \r"
     ]
    }
   ],
   "source": [
    "df_partition.groupBy('week').count().show()"
   ]
  },
  {
   "cell_type": "code",
   "execution_count": 16,
   "metadata": {},
   "outputs": [
    {
     "data": {
      "text/plain": [
       "StructType([StructField('id', IntegerType(), True), StructField('week', IntegerType(), True), StructField('center_id', IntegerType(), True), StructField('city_code', IntegerType(), True), StructField('region_code', IntegerType(), True), StructField('center_type', StringType(), True), StructField('op_area', DoubleType(), True), StructField('meal_id', IntegerType(), True), StructField('category', StringType(), True), StructField('cuisine', StringType(), True), StructField('checkout_price', DoubleType(), True), StructField('base_price', DoubleType(), True), StructField('emailer_for_promotion', IntegerType(), True), StructField('homepage_featured', IntegerType(), True), StructField('num_orders', IntegerType(), True)])"
      ]
     },
     "execution_count": 16,
     "metadata": {},
     "output_type": "execute_result"
    }
   ],
   "source": [
    "# Schema\n",
    "dataSchema = df_partition.schema\n",
    "dataSchema"
   ]
  },
  {
   "cell_type": "code",
   "execution_count": 17,
   "metadata": {},
   "outputs": [],
   "source": [
    "stream = (\n",
    "        spark.readStream.schema(dataSchema) \\\n",
    "        .option('maxFilesPerTrigger',1) \\\n",
    "        .csv('data/food_data_upt/')\n",
    ")"
   ]
  }
 ],
 "metadata": {
  "kernelspec": {
   "display_name": "spark-streaming",
   "language": "python",
   "name": "python3"
  },
  "language_info": {
   "codemirror_mode": {
    "name": "ipython",
    "version": 3
   },
   "file_extension": ".py",
   "mimetype": "text/x-python",
   "name": "python",
   "nbconvert_exporter": "python",
   "pygments_lexer": "ipython3",
   "version": "3.10.12"
  }
 },
 "nbformat": 4,
 "nbformat_minor": 2
}
