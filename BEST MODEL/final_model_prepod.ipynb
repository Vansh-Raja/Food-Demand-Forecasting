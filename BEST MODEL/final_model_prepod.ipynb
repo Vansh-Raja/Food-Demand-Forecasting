{
 "cells": [
  {
   "cell_type": "code",
   "execution_count": 2,
   "id": "1372472a",
   "metadata": {
    "scrolled": true
   },
   "outputs": [
    {
     "name": "stdout",
     "output_type": "stream",
     "text": [
      "Enter center id: 55\n",
      "Enter meal id: 1885\n",
      "Weeks for prediction: 5\n",
      "0    83.765949\n",
      "1    84.086724\n",
      "2    77.381474\n",
      "3    64.678781\n",
      "4    54.986256\n",
      "Name: yhat, dtype: float64\n"
     ]
    }
   ],
   "source": [
    "import pickle\n",
    "import pandas as pd\n",
    "from prophet import Prophet\n",
    "\n",
    "#taking input from the user \n",
    "center_id = input(\"Enter center id: \")\n",
    "meal_id = input(\"Enter meal id: \")\n",
    "future_period = int(input(\"Weeks for prediction: \"))\n",
    "\n",
    "#using center_id and meal_id to make filename \n",
    "file_name = f\"{meal_id}_{center_id}_model.pkl\"\n",
    "try:\n",
    "    #loading saved model file \n",
    "    with open(file_name, \"rb\") as input_file:\n",
    "        loaded_model = pickle.load(input_file)\n",
    "except:\n",
    "    \n",
    "    print(\"Wring Center id or meal id\")\n",
    "\n",
    "last_training_date = loaded_model.history['ds'].max()\n",
    "# Create a future DataFrame for the next 5 days with daily frequency\n",
    "future = pd.date_range(start=last_training_date + pd.DateOffset(1), periods=future_period, freq='W')\n",
    "future_df = pd.DataFrame({'ds': future})\n",
    "\n",
    "# Make sure 'ds' column is in datetime format\n",
    "future_df['ds'] = pd.to_datetime(future_df['ds'])\n",
    "\n",
    "#forecasting future 'periods' \n",
    "print(loaded_model.predict(future_df)['yhat'])\n"
   ]
  },
  {
   "cell_type": "code",
   "execution_count": null,
   "id": "f0c62dc6",
   "metadata": {},
   "outputs": [],
   "source": []
  }
 ],
 "metadata": {
  "kernelspec": {
   "display_name": "Python 3 (ipykernel)",
   "language": "python",
   "name": "python3"
  },
  "language_info": {
   "codemirror_mode": {
    "name": "ipython",
    "version": 3
   },
   "file_extension": ".py",
   "mimetype": "text/x-python",
   "name": "python",
   "nbconvert_exporter": "python",
   "pygments_lexer": "ipython3",
   "version": "3.11.5"
  }
 },
 "nbformat": 4,
 "nbformat_minor": 5
}
